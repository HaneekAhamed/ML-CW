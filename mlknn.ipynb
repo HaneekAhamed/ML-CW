{
 "cells": [
  {
   "cell_type": "code",
   "execution_count": null,
   "metadata": {
    "collapsed": true
   },
   "outputs": [],
   "source": [
    "#import the libraries\n",
    "import re\n",
    "import seaborn as sns\n",
    "import numpy.random as rnd\n",
    "import numpy as np\n",
    "import pandas as pd\n",
    "import matplotlib.pyplot as plt\n",
    "import pickle\n",
    "from sklearn import preprocessing\n",
    "from sklearn import metrics\n",
    "from sklearn.decomposition import PCA\n",
    "from sklearn.model_selection import GridSearchCV\n",
    "from sklearn.tree import DecisionTreeClassifier\n",
    "from sklearn.neighbors import KNeighborsClassifier\n",
    "from sklearn.model_selection import train_test_split, cross_val_score\n",
    "%matplotlib inline"
   ]
  },
  {
   "cell_type": "code",
   "execution_count": null,
   "outputs": [],
   "source": [
    "df=pd.read_csv('spambase 2.csv',index_col=0)"
   ],
   "metadata": {
    "collapsed": false
   }
  },
  {
   "cell_type": "code",
   "execution_count": null,
   "outputs": [],
   "source": [
    "df.head()"
   ],
   "metadata": {
    "collapsed": false
   }
  },
  {
   "cell_type": "code",
   "execution_count": null,
   "outputs": [],
   "source": [
    "# Giving column names for the spambase dataset\n",
    "column_names = [\n",
    "    'word_freq_make',\n",
    "    'word_freq_address',\n",
    "    'word_freq_all',\n",
    "    'word_freq_3d',\n",
    "    'word_freq_our',\n",
    "    'word_freq_over',\n",
    "    'word_freq_remove',\n",
    "    'word_freq_internet',\n",
    "    'word_freq_order',\n",
    "    'word_freq_mail',\n",
    "    'word_freq_receive',\n",
    "    'word_freq_will',\n",
    "    'word_freq_people',\n",
    "    'word_freq_report',\n",
    "    'word_freq_addresses',\n",
    "    'word_freq_free',\n",
    "    'word_freq_business',\n",
    "    'word_freq_email',\n",
    "    'word_freq_you',\n",
    "    'word_freq_credit',\n",
    "    'word_freq_your', 'word_freq_font', 'word_freq_000', 'word_freq_money',\n",
    "    'word_freq_hp', 'word_freq_hpl', 'word_freq_george', 'word_freq_650',\n",
    "    'word_freq_lab', 'word_freq_labs', 'word_freq_telnet', 'word_freq_857',\n",
    "    'word_freq_data', 'word_freq_415', 'word_freq_85', 'word_freq_technology',\n",
    "    'word_freq_1999', 'word_freq_parts', 'word_freq_pm', 'word_freq_direct',\n",
    "    'word_freq_cs', 'word_freq_meeting', 'word_freq_original', 'word_freq_project',\n",
    "    'word_freq_re', 'word_freq_edu', 'word_freq_table', 'word_freq_conference',\n",
    "    'char_freq_;', 'char_freq_(', 'char_freq_[', 'char_freq_!', 'char_freq_$',\n",
    "    'char_freq_#', 'capital_run_length_average', 'capital_run_length_longest',\n",
    "    'capital_run_length_total', 'is_spam'\n",
    "]\n",
    "\n",
    "#Load Dataset\n",
    "df=pd.read_csv('spambase 2.csv',header=None,names=column_names)\n",
    "\n",
    "# Print the first few rows of the dataset\n",
    "df.head()"
   ],
   "metadata": {
    "collapsed": false
   }
  },
  {
   "cell_type": "code",
   "execution_count": null,
   "outputs": [],
   "source": [
    "#Read data in the dataset\n",
    "df.head()"
   ],
   "metadata": {
    "collapsed": false
   }
  },
  {
   "cell_type": "code",
   "execution_count": null,
   "outputs": [],
   "source": [
    "df.info()"
   ],
   "metadata": {
    "collapsed": false
   }
  },
  {
   "cell_type": "code",
   "execution_count": null,
   "outputs": [],
   "source": [
    "#Check for null values\n",
    "df.isnull().sum()"
   ],
   "metadata": {
    "collapsed": false
   }
  },
  {
   "cell_type": "code",
   "execution_count": null,
   "outputs": [],
   "source": [
    "df.describe()"
   ],
   "metadata": {
    "collapsed": false
   }
  },
  {
   "cell_type": "code",
   "execution_count": null,
   "outputs": [],
   "source": [
    "#Drop duplicate values\n",
    "data = df.drop_duplicates()"
   ],
   "metadata": {
    "collapsed": false
   }
  },
  {
   "cell_type": "code",
   "execution_count": null,
   "outputs": [],
   "source": [
    "data.head()"
   ],
   "metadata": {
    "collapsed": false
   }
  },
  {
   "cell_type": "code",
   "execution_count": null,
   "outputs": [],
   "source": [
    "#Plot the feature corelation graph\n",
    "plt.figure(figsize=(8,6))\n",
    "sns.heatmap(df.corr(), cmap='PuBuGn')\n",
    "plt.title('Feature Correlation', color='r')\n",
    "plt.show()"
   ],
   "metadata": {
    "collapsed": false
   }
  },
  {
   "cell_type": "code",
   "execution_count": null,
   "outputs": [],
   "source": [
    "#Plot the outliers table\n",
    "plt.figure(figsize = (14,6))\n",
    "chart = df.boxplot()\n",
    "chart.set_xticklabels(chart.get_xticklabels(), rotation = 80)\n",
    "plt.title(\"Spam message outlier\", color ='red')\n",
    "plt.xlabel('Attributes')\n",
    "plt.ylabel('Count')\n",
    "plt.show()"
   ],
   "metadata": {
    "collapsed": false
   }
  },
  {
   "cell_type": "code",
   "execution_count": null,
   "outputs": [],
   "source": [
    "#Check for spam and no spam count\n",
    "df['is_spam'].value_counts()"
   ],
   "metadata": {
    "collapsed": false
   }
  },
  {
   "cell_type": "code",
   "execution_count": null,
   "outputs": [],
   "source": [
    "#Set 0 as no spam and spam as emails as 1\n",
    "df.is_spam[df['is_spam'] == 1] ='spam'\n",
    "df.is_spam[df['is_spam'] == 0] ='No spam'\n",
    "df.head(10)"
   ],
   "metadata": {
    "collapsed": false
   }
  },
  {
   "cell_type": "code",
   "execution_count": null,
   "outputs": [],
   "source": [
    "#Using Inter quartile range method setting the outliers as null values\n",
    "for outlier in [\"capital_run_length_average\", \"capital_run_length_longest\", \"capital_run_length_total\"]:\n",
    "    quart75, quart25 = np.percentile(data.loc[:,outlier], [75,25])\n",
    "    IQR = quart75 - quart25\n",
    "    max = quart75 + (1.5 * IQR)\n",
    "    min = quart25 - (1.5 * IQR)\n",
    "    data.loc[data[outlier] < min, outlier] = np.nan\n",
    "    data.loc[data[outlier] > max, outlier] = np.nan"
   ],
   "metadata": {
    "collapsed": false
   }
  },
  {
   "cell_type": "code",
   "execution_count": null,
   "outputs": [],
   "source": [
    "#Drop null values in the dataset\n",
    "newData = data.dropna()\n",
    "newData = data.dropna(axis=0)"
   ],
   "metadata": {
    "collapsed": false
   }
  },
  {
   "cell_type": "code",
   "execution_count": null,
   "outputs": [],
   "source": [
    "#reset the index values after removing the null values\n",
    "newData = data.dropna().reset_index(drop=True)"
   ],
   "metadata": {
    "collapsed": false
   }
  },
  {
   "cell_type": "code",
   "execution_count": null,
   "outputs": [],
   "source": [
    "spamData = newData\n",
    "spamData"
   ],
   "metadata": {
    "collapsed": false
   }
  },
  {
   "cell_type": "code",
   "execution_count": null,
   "outputs": [],
   "source": [
    "#Applying feature scaling technique\n",
    "scaler=preprocessing.MinMaxScaler(feature_range=(0,1))\n",
    "scaledData=scaler.fit_transform(spamData)"
   ],
   "metadata": {
    "collapsed": false
   }
  },
  {
   "cell_type": "code",
   "execution_count": null,
   "outputs": [],
   "source": [
    "#Normalization of data\n",
    "spamScale=pd.DataFrame(data=scaledData, index=spamData.index, columns=spamData.columns)"
   ],
   "metadata": {
    "collapsed": false
   }
  },
  {
   "cell_type": "code",
   "execution_count": null,
   "outputs": [],
   "source": [
    "spamData.describe()"
   ],
   "metadata": {
    "collapsed": false
   }
  },
  {
   "cell_type": "code",
   "execution_count": null,
   "outputs": [],
   "source": [
    "#Apllying PCA technique\n",
    "pca = PCA(n_components=3)\n",
    "pcaComp = pca.fit_transform(scaledData)"
   ],
   "metadata": {
    "collapsed": false
   }
  },
  {
   "cell_type": "code",
   "execution_count": null,
   "outputs": [],
   "source": [
    "PCAComp = pd.DataFrame(data = pcaComp, columns = ['PCA1', 'PCA2','PCA3'])"
   ],
   "metadata": {
    "collapsed": false
   }
  },
  {
   "cell_type": "code",
   "execution_count": null,
   "outputs": [],
   "source": [
    "#Display data columns in the dataset where PCA was applied\n",
    "PCAComp.head()"
   ],
   "metadata": {
    "collapsed": false
   }
  },
  {
   "cell_type": "code",
   "execution_count": null,
   "outputs": [],
   "source": [
    "spamData.head()"
   ],
   "metadata": {
    "collapsed": false
   }
  },
  {
   "cell_type": "code",
   "execution_count": null,
   "outputs": [],
   "source": [
    "#Split data as train and test\n",
    "X = spamData.drop('is_spam', axis = 1)\n",
    "y = spamData['is_spam']\n",
    "XTrain, XTest, yTrain, yTest = train_test_split(X, y, test_size = 0.2)"
   ],
   "metadata": {
    "collapsed": false
   }
  },
  {
   "cell_type": "code",
   "execution_count": null,
   "outputs": [],
   "source": [
    "#Feature extraction\n",
    "XTrain = pca.fit_transform(XTrain)\n",
    "XTest = pca.fit_transform(XTest)"
   ],
   "metadata": {
    "collapsed": false
   }
  },
  {
   "cell_type": "code",
   "execution_count": null,
   "outputs": [],
   "source": [
    "#Store train, test in arrays\n",
    "neighbors = np.arange(1,9)\n",
    "train_accuracy = np.empty(len(neighbors))\n",
    "test_accuracy = np.empty(len(neighbors))"
   ],
   "metadata": {
    "collapsed": false
   }
  },
  {
   "cell_type": "code",
   "execution_count": null,
   "outputs": [],
   "source": [
    "#Building the KNN model\n",
    "for i, k in enumerate(neighbors):\n",
    "    knn = KNeighborsClassifier(n_neighbors = 3)\n",
    "    knn.fit(XTrain, yTrain)\n",
    "    train_accuracy[i] = knn.score(XTrain, yTrain)\n",
    "    test_accuracy[i] = knn.score(XTest, yTest)"
   ],
   "metadata": {
    "collapsed": false
   }
  },
  {
   "cell_type": "code",
   "execution_count": null,
   "outputs": [],
   "source": [
    "#Building the Decision Tree model\n",
    "DT = DecisionTreeClassifier(criterion='gini', max_depth=3)"
   ],
   "metadata": {
    "collapsed": false
   }
  },
  {
   "cell_type": "code",
   "execution_count": null,
   "outputs": [],
   "source": [
    "#Prediction\n",
    "yPrediction = knn.predict(XTest)"
   ],
   "metadata": {
    "collapsed": false
   }
  },
  {
   "cell_type": "code",
   "execution_count": null,
   "outputs": [],
   "source": [
    "#Confusionn matrix\n",
    "matrix = pd.DataFrame((metrics.confusion_matrix(yTest, yPrediction)), ('Spam', 'Not spam'), ('Spam', 'Not spam'))\n",
    "print(matrix)"
   ],
   "metadata": {
    "collapsed": false
   }
  },
  {
   "cell_type": "code",
   "execution_count": null,
   "outputs": [],
   "source": [
    "#Plot confusionn matrix in a graph\n",
    "heatmap = sns.heatmap(matrix, annot = True, fmt = 'd', cmap = 'Spectral')\n",
    "heatmap.yaxis.set_ticklabels(heatmap.yaxis.get_ticklabels())\n",
    "heatmap.xaxis.set_ticklabels(heatmap.xaxis.get_ticklabels())\n",
    "\n",
    "plt.title('Confusion Matrix', color = 'darkblue')\n",
    "plt.ylabel('True count')\n",
    "plt.xlabel('Predicted count')\n",
    "plt.show()"
   ],
   "metadata": {
    "collapsed": false
   }
  },
  {
   "cell_type": "code",
   "execution_count": null,
   "outputs": [],
   "source": [
    "#KNN model\n",
    "model = [KNeighborsClassifier(n_neighbors = 5)]"
   ],
   "metadata": {
    "collapsed": false
   }
  },
  {
   "cell_type": "code",
   "execution_count": null,
   "outputs": [],
   "source": [
    "#Report model\n",
    "for knn in model:\n",
    "    knn.fit(XTrain, yTrain)\n",
    "    name = knn.__class__, __name__\n",
    "    trainPred = knn.predict(XTest)\n",
    "    accuracy = metrics.accuracy_score(yTest, trainPred)\n",
    "\n",
    "    print(\"***KNN accuracy***: {:.4%}\".format(accuracy))"
   ],
   "metadata": {
    "collapsed": false
   }
  },
  {
   "cell_type": "code",
   "execution_count": null,
   "outputs": [],
   "source": [
    "DT.fit(XTrain, yTrain)\n",
    "print('Decision Tree accuarcy :', DT.score(XTest, yTest))"
   ],
   "metadata": {
    "collapsed": false
   }
  },
  {
   "cell_type": "code",
   "execution_count": null,
   "outputs": [],
   "source": [],
   "metadata": {
    "collapsed": false
   }
  },
  {
   "cell_type": "code",
   "execution_count": null,
   "outputs": [],
   "source": [],
   "metadata": {
    "collapsed": false
   }
  }
 ],
 "metadata": {
  "kernelspec": {
   "display_name": "Python 3",
   "language": "python",
   "name": "python3"
  },
  "language_info": {
   "codemirror_mode": {
    "name": "ipython",
    "version": 2
   },
   "file_extension": ".py",
   "mimetype": "text/x-python",
   "name": "python",
   "nbconvert_exporter": "python",
   "pygments_lexer": "ipython2",
   "version": "2.7.6"
  }
 },
 "nbformat": 4,
 "nbformat_minor": 0
}
