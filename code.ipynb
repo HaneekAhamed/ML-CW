{
 "cells": [
  {
   "cell_type": "code",
   "execution_count": 89,
   "metadata": {
    "collapsed": true
   },
   "outputs": [],
   "source": [
    "import pandas as pnd\n",
    "import numpy as num\n",
    "from sklearn.model_selection import train_test_split\n",
    "from sklearn.preprocessing import StandardScaler\n",
    "\n",
    "from sklearn.neighbors import KNeighborsClassifier\n",
    "from  sklearn.metrics import confusion_matrix\n",
    "from sklearn.metrics import f1_score\n",
    "from sklearn.metrics import accuracy_score\n",
    "from sklearn.tree import DecisionTreeClassifier\n"
   ]
  },
  {
   "cell_type": "code",
   "execution_count": 90,
   "outputs": [
    {
     "data": {
      "text/plain": "['word_freq_make:',\n 'word_freq_address:',\n 'word_freq_all:',\n 'word_freq_3d:',\n 'word_freq_our:',\n 'word_freq_over:',\n 'word_freq_remove:',\n 'word_freq_internet:',\n 'word_freq_order:',\n 'word_freq_mail:',\n 'word_freq_receive:',\n 'word_freq_will:',\n 'word_freq_people:',\n 'word_freq_report:',\n 'word_freq_addresses:',\n 'word_freq_free:',\n 'word_freq_business:',\n 'word_freq_email:',\n 'word_freq_you:',\n 'word_freq_credit:',\n 'word_freq_your:',\n 'word_freq_font:',\n 'word_freq_000:',\n 'word_freq_money:',\n 'word_freq_hp:',\n 'word_freq_hpl:',\n 'word_freq_george:',\n 'word_freq_650:',\n 'word_freq_lab:',\n 'word_freq_labs:',\n 'word_freq_telnet:',\n 'word_freq_857:',\n 'word_freq_data:',\n 'word_freq_415:',\n 'word_freq_85:',\n 'word_freq_technology:',\n 'word_freq_1999:',\n 'word_freq_parts:',\n 'word_freq_pm:',\n 'word_freq_direct:',\n 'word_freq_cs:',\n 'word_freq_meeting:',\n 'word_freq_original:',\n 'word_freq_project:',\n 'word_freq_re:',\n 'word_freq_edu:',\n 'word_freq_table:',\n 'word_freq_conference:',\n 'char_freq_;:',\n 'char_freq_(:',\n 'char_freq_[:',\n 'char_freq_!:',\n 'char_freq_$:',\n 'char_freq_#:',\n 'capital_run_length_average:',\n 'capital_run_length_longest:',\n 'capital_run_length_total:',\n 'spam_data']"
     },
     "execution_count": 90,
     "metadata": {},
     "output_type": "execute_result"
    }
   ],
   "source": [
    "Topic=pnd.read_csv(\"spam_base.names\" , skiprows= 32 ,sep=\"\\s+\", engine=\"python\", names=[\"attr\",\"\"])\n",
    "Topic=Topic[\"attr\"]\n",
    "Topic=list(Topic)\n",
    "Topic.append(\"spam_data\")\n",
    "Topic"
   ],
   "metadata": {
    "collapsed": false
   }
  },
  {
   "cell_type": "code",
   "execution_count": 91,
   "outputs": [],
   "source": [
    "Data = pnd.read_csv(\"spam_base.data\" , names=Topic , header=None)"
   ],
   "metadata": {
    "collapsed": false
   }
  },
  {
   "cell_type": "code",
   "execution_count": 92,
   "outputs": [
    {
     "name": "stdout",
     "output_type": "stream",
     "text": [
      "<bound method NDFrame.head of       word_freq_make:  word_freq_address:  word_freq_all:  word_freq_3d:  \\\n",
      "0                0.00                0.64            0.64            0.0   \n",
      "1                0.21                0.28            0.50            0.0   \n",
      "2                0.06                0.00            0.71            0.0   \n",
      "3                0.00                0.00            0.00            0.0   \n",
      "4                0.00                0.00            0.00            0.0   \n",
      "...               ...                 ...             ...            ...   \n",
      "4596             0.31                0.00            0.62            0.0   \n",
      "4597             0.00                0.00            0.00            0.0   \n",
      "4598             0.30                0.00            0.30            0.0   \n",
      "4599             0.96                0.00            0.00            0.0   \n",
      "4600             0.00                0.00            0.65            0.0   \n",
      "\n",
      "      word_freq_our:  word_freq_over:  word_freq_remove:  word_freq_internet:  \\\n",
      "0               0.32             0.00               0.00                 0.00   \n",
      "1               0.14             0.28               0.21                 0.07   \n",
      "2               1.23             0.19               0.19                 0.12   \n",
      "3               0.63             0.00               0.31                 0.63   \n",
      "4               0.63             0.00               0.31                 0.63   \n",
      "...              ...              ...                ...                  ...   \n",
      "4596            0.00             0.31               0.00                 0.00   \n",
      "4597            0.00             0.00               0.00                 0.00   \n",
      "4598            0.00             0.00               0.00                 0.00   \n",
      "4599            0.32             0.00               0.00                 0.00   \n",
      "4600            0.00             0.00               0.00                 0.00   \n",
      "\n",
      "      word_freq_order:  word_freq_mail:  ...  char_freq_;:  char_freq_(:  \\\n",
      "0                 0.00             0.00  ...         0.000         0.000   \n",
      "1                 0.00             0.94  ...         0.000         0.132   \n",
      "2                 0.64             0.25  ...         0.010         0.143   \n",
      "3                 0.31             0.63  ...         0.000         0.137   \n",
      "4                 0.31             0.63  ...         0.000         0.135   \n",
      "...                ...              ...  ...           ...           ...   \n",
      "4596              0.00             0.00  ...         0.000         0.232   \n",
      "4597              0.00             0.00  ...         0.000         0.000   \n",
      "4598              0.00             0.00  ...         0.102         0.718   \n",
      "4599              0.00             0.00  ...         0.000         0.057   \n",
      "4600              0.00             0.00  ...         0.000         0.000   \n",
      "\n",
      "      char_freq_[:  char_freq_!:  char_freq_$:  char_freq_#:  \\\n",
      "0              0.0         0.778         0.000         0.000   \n",
      "1              0.0         0.372         0.180         0.048   \n",
      "2              0.0         0.276         0.184         0.010   \n",
      "3              0.0         0.137         0.000         0.000   \n",
      "4              0.0         0.135         0.000         0.000   \n",
      "...            ...           ...           ...           ...   \n",
      "4596           0.0         0.000         0.000         0.000   \n",
      "4597           0.0         0.353         0.000         0.000   \n",
      "4598           0.0         0.000         0.000         0.000   \n",
      "4599           0.0         0.000         0.000         0.000   \n",
      "4600           0.0         0.125         0.000         0.000   \n",
      "\n",
      "      capital_run_length_average:  capital_run_length_longest:  \\\n",
      "0                           3.756                           61   \n",
      "1                           5.114                          101   \n",
      "2                           9.821                          485   \n",
      "3                           3.537                           40   \n",
      "4                           3.537                           40   \n",
      "...                           ...                          ...   \n",
      "4596                        1.142                            3   \n",
      "4597                        1.555                            4   \n",
      "4598                        1.404                            6   \n",
      "4599                        1.147                            5   \n",
      "4600                        1.250                            5   \n",
      "\n",
      "      capital_run_length_total:  spam_data  \n",
      "0                           278          1  \n",
      "1                          1028          1  \n",
      "2                          2259          1  \n",
      "3                           191          1  \n",
      "4                           191          1  \n",
      "...                         ...        ...  \n",
      "4596                         88          0  \n",
      "4597                         14          0  \n",
      "4598                        118          0  \n",
      "4599                         78          0  \n",
      "4600                         40          0  \n",
      "\n",
      "[4601 rows x 58 columns]>\n"
     ]
    }
   ],
   "source": [
    "print(Data.head)"
   ],
   "metadata": {
    "collapsed": false
   }
  },
  {
   "cell_type": "code",
   "execution_count": 93,
   "outputs": [
    {
     "data": {
      "text/plain": "<bound method NDFrame.describe of       word_freq_make:  word_freq_address:  word_freq_all:  word_freq_3d:  \\\n0                0.00                0.64            0.64            0.0   \n1                0.21                0.28            0.50            0.0   \n2                0.06                0.00            0.71            0.0   \n3                0.00                0.00            0.00            0.0   \n4                0.00                0.00            0.00            0.0   \n...               ...                 ...             ...            ...   \n4596             0.31                0.00            0.62            0.0   \n4597             0.00                0.00            0.00            0.0   \n4598             0.30                0.00            0.30            0.0   \n4599             0.96                0.00            0.00            0.0   \n4600             0.00                0.00            0.65            0.0   \n\n      word_freq_our:  word_freq_over:  word_freq_remove:  word_freq_internet:  \\\n0               0.32             0.00               0.00                 0.00   \n1               0.14             0.28               0.21                 0.07   \n2               1.23             0.19               0.19                 0.12   \n3               0.63             0.00               0.31                 0.63   \n4               0.63             0.00               0.31                 0.63   \n...              ...              ...                ...                  ...   \n4596            0.00             0.31               0.00                 0.00   \n4597            0.00             0.00               0.00                 0.00   \n4598            0.00             0.00               0.00                 0.00   \n4599            0.32             0.00               0.00                 0.00   \n4600            0.00             0.00               0.00                 0.00   \n\n      word_freq_order:  word_freq_mail:  ...  char_freq_;:  char_freq_(:  \\\n0                 0.00             0.00  ...         0.000         0.000   \n1                 0.00             0.94  ...         0.000         0.132   \n2                 0.64             0.25  ...         0.010         0.143   \n3                 0.31             0.63  ...         0.000         0.137   \n4                 0.31             0.63  ...         0.000         0.135   \n...                ...              ...  ...           ...           ...   \n4596              0.00             0.00  ...         0.000         0.232   \n4597              0.00             0.00  ...         0.000         0.000   \n4598              0.00             0.00  ...         0.102         0.718   \n4599              0.00             0.00  ...         0.000         0.057   \n4600              0.00             0.00  ...         0.000         0.000   \n\n      char_freq_[:  char_freq_!:  char_freq_$:  char_freq_#:  \\\n0              0.0         0.778         0.000         0.000   \n1              0.0         0.372         0.180         0.048   \n2              0.0         0.276         0.184         0.010   \n3              0.0         0.137         0.000         0.000   \n4              0.0         0.135         0.000         0.000   \n...            ...           ...           ...           ...   \n4596           0.0         0.000         0.000         0.000   \n4597           0.0         0.353         0.000         0.000   \n4598           0.0         0.000         0.000         0.000   \n4599           0.0         0.000         0.000         0.000   \n4600           0.0         0.125         0.000         0.000   \n\n      capital_run_length_average:  capital_run_length_longest:  \\\n0                           3.756                           61   \n1                           5.114                          101   \n2                           9.821                          485   \n3                           3.537                           40   \n4                           3.537                           40   \n...                           ...                          ...   \n4596                        1.142                            3   \n4597                        1.555                            4   \n4598                        1.404                            6   \n4599                        1.147                            5   \n4600                        1.250                            5   \n\n      capital_run_length_total:  spam_data  \n0                           278          1  \n1                          1028          1  \n2                          2259          1  \n3                           191          1  \n4                           191          1  \n...                         ...        ...  \n4596                         88          0  \n4597                         14          0  \n4598                        118          0  \n4599                         78          0  \n4600                         40          0  \n\n[4601 rows x 58 columns]>"
     },
     "execution_count": 93,
     "metadata": {},
     "output_type": "execute_result"
    }
   ],
   "source": [
    "Data.describe"
   ],
   "metadata": {
    "collapsed": false
   }
  },
  {
   "cell_type": "code",
   "execution_count": 54,
   "outputs": [
    {
     "name": "stdout",
     "output_type": "stream",
     "text": [
      "False    4210\n",
      "True      391\n",
      "dtype: int64\n"
     ]
    }
   ],
   "source": [
    "print((Data.duplicated().value_counts()))"
   ],
   "metadata": {
    "collapsed": false
   }
  },
  {
   "cell_type": "code",
   "execution_count": 94,
   "outputs": [
    {
     "data": {
      "text/plain": "<bound method NDFrame.head of       word_freq_make:  word_freq_address:  word_freq_all:  word_freq_3d:  \\\n0                0.00                0.64            0.64            0.0   \n1                0.21                0.28            0.50            0.0   \n2                0.06                0.00            0.71            0.0   \n3                0.00                0.00            0.00            0.0   \n4                0.00                0.00            0.00            0.0   \n...               ...                 ...             ...            ...   \n4596             0.31                0.00            0.62            0.0   \n4597             0.00                0.00            0.00            0.0   \n4598             0.30                0.00            0.30            0.0   \n4599             0.96                0.00            0.00            0.0   \n4600             0.00                0.00            0.65            0.0   \n\n      word_freq_our:  word_freq_over:  word_freq_remove:  word_freq_internet:  \\\n0               0.32             0.00               0.00                 0.00   \n1               0.14             0.28               0.21                 0.07   \n2               1.23             0.19               0.19                 0.12   \n3               0.63             0.00               0.31                 0.63   \n4               0.63             0.00               0.31                 0.63   \n...              ...              ...                ...                  ...   \n4596            0.00             0.31               0.00                 0.00   \n4597            0.00             0.00               0.00                 0.00   \n4598            0.00             0.00               0.00                 0.00   \n4599            0.32             0.00               0.00                 0.00   \n4600            0.00             0.00               0.00                 0.00   \n\n      word_freq_order:  word_freq_mail:  ...  char_freq_;:  char_freq_(:  \\\n0                 0.00             0.00  ...         0.000         0.000   \n1                 0.00             0.94  ...         0.000         0.132   \n2                 0.64             0.25  ...         0.010         0.143   \n3                 0.31             0.63  ...         0.000         0.137   \n4                 0.31             0.63  ...         0.000         0.135   \n...                ...              ...  ...           ...           ...   \n4596              0.00             0.00  ...         0.000         0.232   \n4597              0.00             0.00  ...         0.000         0.000   \n4598              0.00             0.00  ...         0.102         0.718   \n4599              0.00             0.00  ...         0.000         0.057   \n4600              0.00             0.00  ...         0.000         0.000   \n\n      char_freq_[:  char_freq_!:  char_freq_$:  char_freq_#:  \\\n0              0.0         0.778         0.000         0.000   \n1              0.0         0.372         0.180         0.048   \n2              0.0         0.276         0.184         0.010   \n3              0.0         0.137         0.000         0.000   \n4              0.0         0.135         0.000         0.000   \n...            ...           ...           ...           ...   \n4596           0.0         0.000         0.000         0.000   \n4597           0.0         0.353         0.000         0.000   \n4598           0.0         0.000         0.000         0.000   \n4599           0.0         0.000         0.000         0.000   \n4600           0.0         0.125         0.000         0.000   \n\n      capital_run_length_average:  capital_run_length_longest:  \\\n0                           3.756                           61   \n1                           5.114                          101   \n2                           9.821                          485   \n3                           3.537                           40   \n4                           3.537                           40   \n...                           ...                          ...   \n4596                        1.142                            3   \n4597                        1.555                            4   \n4598                        1.404                            6   \n4599                        1.147                            5   \n4600                        1.250                            5   \n\n      capital_run_length_total:  spam_data  \n0                           278          1  \n1                          1028          1  \n2                          2259          1  \n3                           191          1  \n4                           191          1  \n...                         ...        ...  \n4596                         88          0  \n4597                         14          0  \n4598                        118          0  \n4599                         78          0  \n4600                         40          0  \n\n[4210 rows x 58 columns]>"
     },
     "execution_count": 94,
     "metadata": {},
     "output_type": "execute_result"
    }
   ],
   "source": [
    "Data = Data.drop_duplicates()\n",
    "Data.head"
   ],
   "metadata": {
    "collapsed": false
   }
  },
  {
   "cell_type": "code",
   "execution_count": 95,
   "outputs": [
    {
     "data": {
      "text/plain": "word_freq_make:                0\nword_freq_address:             0\nword_freq_all:                 0\nword_freq_3d:                  0\nword_freq_our:                 0\nword_freq_over:                0\nword_freq_remove:              0\nword_freq_internet:            0\nword_freq_order:               0\nword_freq_mail:                0\nword_freq_receive:             0\nword_freq_will:                0\nword_freq_people:              0\nword_freq_report:              0\nword_freq_addresses:           0\nword_freq_free:                0\nword_freq_business:            0\nword_freq_email:               0\nword_freq_you:                 0\nword_freq_credit:              0\nword_freq_your:                0\nword_freq_font:                0\nword_freq_000:                 0\nword_freq_money:               0\nword_freq_hp:                  0\nword_freq_hpl:                 0\nword_freq_george:              0\nword_freq_650:                 0\nword_freq_lab:                 0\nword_freq_labs:                0\nword_freq_telnet:              0\nword_freq_857:                 0\nword_freq_data:                0\nword_freq_415:                 0\nword_freq_85:                  0\nword_freq_technology:          0\nword_freq_1999:                0\nword_freq_parts:               0\nword_freq_pm:                  0\nword_freq_direct:              0\nword_freq_cs:                  0\nword_freq_meeting:             0\nword_freq_original:            0\nword_freq_project:             0\nword_freq_re:                  0\nword_freq_edu:                 0\nword_freq_table:               0\nword_freq_conference:          0\nchar_freq_;:                   0\nchar_freq_(:                   0\nchar_freq_[:                   0\nchar_freq_!:                   0\nchar_freq_$:                   0\nchar_freq_#:                   0\ncapital_run_length_average:    0\ncapital_run_length_longest:    0\ncapital_run_length_total:      0\nspam_data                      0\ndtype: int64"
     },
     "execution_count": 95,
     "metadata": {},
     "output_type": "execute_result"
    }
   ],
   "source": [
    "Data.isna().sum()"
   ],
   "metadata": {
    "collapsed": false
   }
  },
  {
   "cell_type": "code",
   "execution_count": 96,
   "outputs": [
    {
     "data": {
      "text/plain": "      word_freq_make:  word_freq_address:  word_freq_all:  word_freq_3d:  \\\n0                0.00                0.64            0.64            0.0   \n1                0.21                0.28            0.50            0.0   \n2                0.06                0.00            0.71            0.0   \n3                0.00                0.00            0.00            0.0   \n4                0.00                0.00            0.00            0.0   \n...               ...                 ...             ...            ...   \n4596             0.31                0.00            0.62            0.0   \n4597             0.00                0.00            0.00            0.0   \n4598             0.30                0.00            0.30            0.0   \n4599             0.96                0.00            0.00            0.0   \n4600             0.00                0.00            0.65            0.0   \n\n      word_freq_our:  word_freq_over:  word_freq_remove:  word_freq_internet:  \\\n0               0.32             0.00               0.00                 0.00   \n1               0.14             0.28               0.21                 0.07   \n2               1.23             0.19               0.19                 0.12   \n3               0.63             0.00               0.31                 0.63   \n4               0.63             0.00               0.31                 0.63   \n...              ...              ...                ...                  ...   \n4596            0.00             0.31               0.00                 0.00   \n4597            0.00             0.00               0.00                 0.00   \n4598            0.00             0.00               0.00                 0.00   \n4599            0.32             0.00               0.00                 0.00   \n4600            0.00             0.00               0.00                 0.00   \n\n      word_freq_order:  word_freq_mail:  ...  word_freq_conference:  \\\n0                 0.00             0.00  ...                    0.0   \n1                 0.00             0.94  ...                    0.0   \n2                 0.64             0.25  ...                    0.0   \n3                 0.31             0.63  ...                    0.0   \n4                 0.31             0.63  ...                    0.0   \n...                ...              ...  ...                    ...   \n4596              0.00             0.00  ...                    0.0   \n4597              0.00             0.00  ...                    0.0   \n4598              0.00             0.00  ...                    0.0   \n4599              0.00             0.00  ...                    0.0   \n4600              0.00             0.00  ...                    0.0   \n\n      char_freq_;:  char_freq_(:  char_freq_[:  char_freq_!:  char_freq_$:  \\\n0            0.000         0.000           0.0         0.778         0.000   \n1            0.000         0.132           0.0         0.372         0.180   \n2            0.010         0.143           0.0         0.276         0.184   \n3            0.000         0.137           0.0         0.137         0.000   \n4            0.000         0.135           0.0         0.135         0.000   \n...            ...           ...           ...           ...           ...   \n4596         0.000         0.232           0.0         0.000         0.000   \n4597         0.000         0.000           0.0         0.353         0.000   \n4598         0.102         0.718           0.0         0.000         0.000   \n4599         0.000         0.057           0.0         0.000         0.000   \n4600         0.000         0.000           0.0         0.125         0.000   \n\n      char_freq_#:  capital_run_length_average:  capital_run_length_longest:  \\\n0            0.000                        3.756                           61   \n1            0.048                        5.114                          101   \n2            0.010                        9.821                          485   \n3            0.000                        3.537                           40   \n4            0.000                        3.537                           40   \n...            ...                          ...                          ...   \n4596         0.000                        1.142                            3   \n4597         0.000                        1.555                            4   \n4598         0.000                        1.404                            6   \n4599         0.000                        1.147                            5   \n4600         0.000                        1.250                            5   \n\n      capital_run_length_total:  \n0                           278  \n1                          1028  \n2                          2259  \n3                           191  \n4                           191  \n...                         ...  \n4596                         88  \n4597                         14  \n4598                        118  \n4599                         78  \n4600                         40  \n\n[4210 rows x 57 columns]",
      "text/html": "<div>\n<style scoped>\n    .dataframe tbody tr th:only-of-type {\n        vertical-align: middle;\n    }\n\n    .dataframe tbody tr th {\n        vertical-align: top;\n    }\n\n    .dataframe thead th {\n        text-align: right;\n    }\n</style>\n<table border=\"1\" class=\"dataframe\">\n  <thead>\n    <tr style=\"text-align: right;\">\n      <th></th>\n      <th>word_freq_make:</th>\n      <th>word_freq_address:</th>\n      <th>word_freq_all:</th>\n      <th>word_freq_3d:</th>\n      <th>word_freq_our:</th>\n      <th>word_freq_over:</th>\n      <th>word_freq_remove:</th>\n      <th>word_freq_internet:</th>\n      <th>word_freq_order:</th>\n      <th>word_freq_mail:</th>\n      <th>...</th>\n      <th>word_freq_conference:</th>\n      <th>char_freq_;:</th>\n      <th>char_freq_(:</th>\n      <th>char_freq_[:</th>\n      <th>char_freq_!:</th>\n      <th>char_freq_$:</th>\n      <th>char_freq_#:</th>\n      <th>capital_run_length_average:</th>\n      <th>capital_run_length_longest:</th>\n      <th>capital_run_length_total:</th>\n    </tr>\n  </thead>\n  <tbody>\n    <tr>\n      <th>0</th>\n      <td>0.00</td>\n      <td>0.64</td>\n      <td>0.64</td>\n      <td>0.0</td>\n      <td>0.32</td>\n      <td>0.00</td>\n      <td>0.00</td>\n      <td>0.00</td>\n      <td>0.00</td>\n      <td>0.00</td>\n      <td>...</td>\n      <td>0.0</td>\n      <td>0.000</td>\n      <td>0.000</td>\n      <td>0.0</td>\n      <td>0.778</td>\n      <td>0.000</td>\n      <td>0.000</td>\n      <td>3.756</td>\n      <td>61</td>\n      <td>278</td>\n    </tr>\n    <tr>\n      <th>1</th>\n      <td>0.21</td>\n      <td>0.28</td>\n      <td>0.50</td>\n      <td>0.0</td>\n      <td>0.14</td>\n      <td>0.28</td>\n      <td>0.21</td>\n      <td>0.07</td>\n      <td>0.00</td>\n      <td>0.94</td>\n      <td>...</td>\n      <td>0.0</td>\n      <td>0.000</td>\n      <td>0.132</td>\n      <td>0.0</td>\n      <td>0.372</td>\n      <td>0.180</td>\n      <td>0.048</td>\n      <td>5.114</td>\n      <td>101</td>\n      <td>1028</td>\n    </tr>\n    <tr>\n      <th>2</th>\n      <td>0.06</td>\n      <td>0.00</td>\n      <td>0.71</td>\n      <td>0.0</td>\n      <td>1.23</td>\n      <td>0.19</td>\n      <td>0.19</td>\n      <td>0.12</td>\n      <td>0.64</td>\n      <td>0.25</td>\n      <td>...</td>\n      <td>0.0</td>\n      <td>0.010</td>\n      <td>0.143</td>\n      <td>0.0</td>\n      <td>0.276</td>\n      <td>0.184</td>\n      <td>0.010</td>\n      <td>9.821</td>\n      <td>485</td>\n      <td>2259</td>\n    </tr>\n    <tr>\n      <th>3</th>\n      <td>0.00</td>\n      <td>0.00</td>\n      <td>0.00</td>\n      <td>0.0</td>\n      <td>0.63</td>\n      <td>0.00</td>\n      <td>0.31</td>\n      <td>0.63</td>\n      <td>0.31</td>\n      <td>0.63</td>\n      <td>...</td>\n      <td>0.0</td>\n      <td>0.000</td>\n      <td>0.137</td>\n      <td>0.0</td>\n      <td>0.137</td>\n      <td>0.000</td>\n      <td>0.000</td>\n      <td>3.537</td>\n      <td>40</td>\n      <td>191</td>\n    </tr>\n    <tr>\n      <th>4</th>\n      <td>0.00</td>\n      <td>0.00</td>\n      <td>0.00</td>\n      <td>0.0</td>\n      <td>0.63</td>\n      <td>0.00</td>\n      <td>0.31</td>\n      <td>0.63</td>\n      <td>0.31</td>\n      <td>0.63</td>\n      <td>...</td>\n      <td>0.0</td>\n      <td>0.000</td>\n      <td>0.135</td>\n      <td>0.0</td>\n      <td>0.135</td>\n      <td>0.000</td>\n      <td>0.000</td>\n      <td>3.537</td>\n      <td>40</td>\n      <td>191</td>\n    </tr>\n    <tr>\n      <th>...</th>\n      <td>...</td>\n      <td>...</td>\n      <td>...</td>\n      <td>...</td>\n      <td>...</td>\n      <td>...</td>\n      <td>...</td>\n      <td>...</td>\n      <td>...</td>\n      <td>...</td>\n      <td>...</td>\n      <td>...</td>\n      <td>...</td>\n      <td>...</td>\n      <td>...</td>\n      <td>...</td>\n      <td>...</td>\n      <td>...</td>\n      <td>...</td>\n      <td>...</td>\n      <td>...</td>\n    </tr>\n    <tr>\n      <th>4596</th>\n      <td>0.31</td>\n      <td>0.00</td>\n      <td>0.62</td>\n      <td>0.0</td>\n      <td>0.00</td>\n      <td>0.31</td>\n      <td>0.00</td>\n      <td>0.00</td>\n      <td>0.00</td>\n      <td>0.00</td>\n      <td>...</td>\n      <td>0.0</td>\n      <td>0.000</td>\n      <td>0.232</td>\n      <td>0.0</td>\n      <td>0.000</td>\n      <td>0.000</td>\n      <td>0.000</td>\n      <td>1.142</td>\n      <td>3</td>\n      <td>88</td>\n    </tr>\n    <tr>\n      <th>4597</th>\n      <td>0.00</td>\n      <td>0.00</td>\n      <td>0.00</td>\n      <td>0.0</td>\n      <td>0.00</td>\n      <td>0.00</td>\n      <td>0.00</td>\n      <td>0.00</td>\n      <td>0.00</td>\n      <td>0.00</td>\n      <td>...</td>\n      <td>0.0</td>\n      <td>0.000</td>\n      <td>0.000</td>\n      <td>0.0</td>\n      <td>0.353</td>\n      <td>0.000</td>\n      <td>0.000</td>\n      <td>1.555</td>\n      <td>4</td>\n      <td>14</td>\n    </tr>\n    <tr>\n      <th>4598</th>\n      <td>0.30</td>\n      <td>0.00</td>\n      <td>0.30</td>\n      <td>0.0</td>\n      <td>0.00</td>\n      <td>0.00</td>\n      <td>0.00</td>\n      <td>0.00</td>\n      <td>0.00</td>\n      <td>0.00</td>\n      <td>...</td>\n      <td>0.0</td>\n      <td>0.102</td>\n      <td>0.718</td>\n      <td>0.0</td>\n      <td>0.000</td>\n      <td>0.000</td>\n      <td>0.000</td>\n      <td>1.404</td>\n      <td>6</td>\n      <td>118</td>\n    </tr>\n    <tr>\n      <th>4599</th>\n      <td>0.96</td>\n      <td>0.00</td>\n      <td>0.00</td>\n      <td>0.0</td>\n      <td>0.32</td>\n      <td>0.00</td>\n      <td>0.00</td>\n      <td>0.00</td>\n      <td>0.00</td>\n      <td>0.00</td>\n      <td>...</td>\n      <td>0.0</td>\n      <td>0.000</td>\n      <td>0.057</td>\n      <td>0.0</td>\n      <td>0.000</td>\n      <td>0.000</td>\n      <td>0.000</td>\n      <td>1.147</td>\n      <td>5</td>\n      <td>78</td>\n    </tr>\n    <tr>\n      <th>4600</th>\n      <td>0.00</td>\n      <td>0.00</td>\n      <td>0.65</td>\n      <td>0.0</td>\n      <td>0.00</td>\n      <td>0.00</td>\n      <td>0.00</td>\n      <td>0.00</td>\n      <td>0.00</td>\n      <td>0.00</td>\n      <td>...</td>\n      <td>0.0</td>\n      <td>0.000</td>\n      <td>0.000</td>\n      <td>0.0</td>\n      <td>0.125</td>\n      <td>0.000</td>\n      <td>0.000</td>\n      <td>1.250</td>\n      <td>5</td>\n      <td>40</td>\n    </tr>\n  </tbody>\n</table>\n<p>4210 rows × 57 columns</p>\n</div>"
     },
     "execution_count": 96,
     "metadata": {},
     "output_type": "execute_result"
    }
   ],
   "source": [
    "x = Data.drop(columns=[\"spam_data\"])\n",
    "x"
   ],
   "metadata": {
    "collapsed": false
   }
  },
  {
   "cell_type": "code",
   "execution_count": 97,
   "outputs": [
    {
     "data": {
      "text/plain": "      word_freq_make:  word_freq_address:  word_freq_all:  word_freq_3d:  \\\n0                0.00                0.64            0.64            0.0   \n1                0.21                0.28            0.50            0.0   \n2                0.06                0.00            0.71            0.0   \n3                0.00                0.00            0.00            0.0   \n4                0.00                0.00            0.00            0.0   \n...               ...                 ...             ...            ...   \n4596             0.31                0.00            0.62            0.0   \n4597             0.00                0.00            0.00            0.0   \n4598             0.30                0.00            0.30            0.0   \n4599             0.96                0.00            0.00            0.0   \n4600             0.00                0.00            0.65            0.0   \n\n      word_freq_our:  word_freq_over:  word_freq_remove:  word_freq_internet:  \\\n0               0.32             0.00               0.00                 0.00   \n1               0.14             0.28               0.21                 0.07   \n2               1.23             0.19               0.19                 0.12   \n3               0.63             0.00               0.31                 0.63   \n4               0.63             0.00               0.31                 0.63   \n...              ...              ...                ...                  ...   \n4596            0.00             0.31               0.00                 0.00   \n4597            0.00             0.00               0.00                 0.00   \n4598            0.00             0.00               0.00                 0.00   \n4599            0.32             0.00               0.00                 0.00   \n4600            0.00             0.00               0.00                 0.00   \n\n      word_freq_order:  word_freq_mail:  ...  word_freq_conference:  \\\n0                 0.00             0.00  ...                    0.0   \n1                 0.00             0.94  ...                    0.0   \n2                 0.64             0.25  ...                    0.0   \n3                 0.31             0.63  ...                    0.0   \n4                 0.31             0.63  ...                    0.0   \n...                ...              ...  ...                    ...   \n4596              0.00             0.00  ...                    0.0   \n4597              0.00             0.00  ...                    0.0   \n4598              0.00             0.00  ...                    0.0   \n4599              0.00             0.00  ...                    0.0   \n4600              0.00             0.00  ...                    0.0   \n\n      char_freq_;:  char_freq_(:  char_freq_[:  char_freq_!:  char_freq_$:  \\\n0            0.000         0.000           0.0         0.778         0.000   \n1            0.000         0.132           0.0         0.372         0.180   \n2            0.010         0.143           0.0         0.276         0.184   \n3            0.000         0.137           0.0         0.137         0.000   \n4            0.000         0.135           0.0         0.135         0.000   \n...            ...           ...           ...           ...           ...   \n4596         0.000         0.232           0.0         0.000         0.000   \n4597         0.000         0.000           0.0         0.353         0.000   \n4598         0.102         0.718           0.0         0.000         0.000   \n4599         0.000         0.057           0.0         0.000         0.000   \n4600         0.000         0.000           0.0         0.125         0.000   \n\n      char_freq_#:  capital_run_length_average:  capital_run_length_longest:  \\\n0            0.000                        3.756                           61   \n1            0.048                        5.114                          101   \n2            0.010                        9.821                          485   \n3            0.000                        3.537                           40   \n4            0.000                        3.537                           40   \n...            ...                          ...                          ...   \n4596         0.000                        1.142                            3   \n4597         0.000                        1.555                            4   \n4598         0.000                        1.404                            6   \n4599         0.000                        1.147                            5   \n4600         0.000                        1.250                            5   \n\n      capital_run_length_total:  \n0                           278  \n1                          1028  \n2                          2259  \n3                           191  \n4                           191  \n...                         ...  \n4596                         88  \n4597                         14  \n4598                        118  \n4599                         78  \n4600                         40  \n\n[4210 rows x 57 columns]",
      "text/html": "<div>\n<style scoped>\n    .dataframe tbody tr th:only-of-type {\n        vertical-align: middle;\n    }\n\n    .dataframe tbody tr th {\n        vertical-align: top;\n    }\n\n    .dataframe thead th {\n        text-align: right;\n    }\n</style>\n<table border=\"1\" class=\"dataframe\">\n  <thead>\n    <tr style=\"text-align: right;\">\n      <th></th>\n      <th>word_freq_make:</th>\n      <th>word_freq_address:</th>\n      <th>word_freq_all:</th>\n      <th>word_freq_3d:</th>\n      <th>word_freq_our:</th>\n      <th>word_freq_over:</th>\n      <th>word_freq_remove:</th>\n      <th>word_freq_internet:</th>\n      <th>word_freq_order:</th>\n      <th>word_freq_mail:</th>\n      <th>...</th>\n      <th>word_freq_conference:</th>\n      <th>char_freq_;:</th>\n      <th>char_freq_(:</th>\n      <th>char_freq_[:</th>\n      <th>char_freq_!:</th>\n      <th>char_freq_$:</th>\n      <th>char_freq_#:</th>\n      <th>capital_run_length_average:</th>\n      <th>capital_run_length_longest:</th>\n      <th>capital_run_length_total:</th>\n    </tr>\n  </thead>\n  <tbody>\n    <tr>\n      <th>0</th>\n      <td>0.00</td>\n      <td>0.64</td>\n      <td>0.64</td>\n      <td>0.0</td>\n      <td>0.32</td>\n      <td>0.00</td>\n      <td>0.00</td>\n      <td>0.00</td>\n      <td>0.00</td>\n      <td>0.00</td>\n      <td>...</td>\n      <td>0.0</td>\n      <td>0.000</td>\n      <td>0.000</td>\n      <td>0.0</td>\n      <td>0.778</td>\n      <td>0.000</td>\n      <td>0.000</td>\n      <td>3.756</td>\n      <td>61</td>\n      <td>278</td>\n    </tr>\n    <tr>\n      <th>1</th>\n      <td>0.21</td>\n      <td>0.28</td>\n      <td>0.50</td>\n      <td>0.0</td>\n      <td>0.14</td>\n      <td>0.28</td>\n      <td>0.21</td>\n      <td>0.07</td>\n      <td>0.00</td>\n      <td>0.94</td>\n      <td>...</td>\n      <td>0.0</td>\n      <td>0.000</td>\n      <td>0.132</td>\n      <td>0.0</td>\n      <td>0.372</td>\n      <td>0.180</td>\n      <td>0.048</td>\n      <td>5.114</td>\n      <td>101</td>\n      <td>1028</td>\n    </tr>\n    <tr>\n      <th>2</th>\n      <td>0.06</td>\n      <td>0.00</td>\n      <td>0.71</td>\n      <td>0.0</td>\n      <td>1.23</td>\n      <td>0.19</td>\n      <td>0.19</td>\n      <td>0.12</td>\n      <td>0.64</td>\n      <td>0.25</td>\n      <td>...</td>\n      <td>0.0</td>\n      <td>0.010</td>\n      <td>0.143</td>\n      <td>0.0</td>\n      <td>0.276</td>\n      <td>0.184</td>\n      <td>0.010</td>\n      <td>9.821</td>\n      <td>485</td>\n      <td>2259</td>\n    </tr>\n    <tr>\n      <th>3</th>\n      <td>0.00</td>\n      <td>0.00</td>\n      <td>0.00</td>\n      <td>0.0</td>\n      <td>0.63</td>\n      <td>0.00</td>\n      <td>0.31</td>\n      <td>0.63</td>\n      <td>0.31</td>\n      <td>0.63</td>\n      <td>...</td>\n      <td>0.0</td>\n      <td>0.000</td>\n      <td>0.137</td>\n      <td>0.0</td>\n      <td>0.137</td>\n      <td>0.000</td>\n      <td>0.000</td>\n      <td>3.537</td>\n      <td>40</td>\n      <td>191</td>\n    </tr>\n    <tr>\n      <th>4</th>\n      <td>0.00</td>\n      <td>0.00</td>\n      <td>0.00</td>\n      <td>0.0</td>\n      <td>0.63</td>\n      <td>0.00</td>\n      <td>0.31</td>\n      <td>0.63</td>\n      <td>0.31</td>\n      <td>0.63</td>\n      <td>...</td>\n      <td>0.0</td>\n      <td>0.000</td>\n      <td>0.135</td>\n      <td>0.0</td>\n      <td>0.135</td>\n      <td>0.000</td>\n      <td>0.000</td>\n      <td>3.537</td>\n      <td>40</td>\n      <td>191</td>\n    </tr>\n    <tr>\n      <th>...</th>\n      <td>...</td>\n      <td>...</td>\n      <td>...</td>\n      <td>...</td>\n      <td>...</td>\n      <td>...</td>\n      <td>...</td>\n      <td>...</td>\n      <td>...</td>\n      <td>...</td>\n      <td>...</td>\n      <td>...</td>\n      <td>...</td>\n      <td>...</td>\n      <td>...</td>\n      <td>...</td>\n      <td>...</td>\n      <td>...</td>\n      <td>...</td>\n      <td>...</td>\n      <td>...</td>\n    </tr>\n    <tr>\n      <th>4596</th>\n      <td>0.31</td>\n      <td>0.00</td>\n      <td>0.62</td>\n      <td>0.0</td>\n      <td>0.00</td>\n      <td>0.31</td>\n      <td>0.00</td>\n      <td>0.00</td>\n      <td>0.00</td>\n      <td>0.00</td>\n      <td>...</td>\n      <td>0.0</td>\n      <td>0.000</td>\n      <td>0.232</td>\n      <td>0.0</td>\n      <td>0.000</td>\n      <td>0.000</td>\n      <td>0.000</td>\n      <td>1.142</td>\n      <td>3</td>\n      <td>88</td>\n    </tr>\n    <tr>\n      <th>4597</th>\n      <td>0.00</td>\n      <td>0.00</td>\n      <td>0.00</td>\n      <td>0.0</td>\n      <td>0.00</td>\n      <td>0.00</td>\n      <td>0.00</td>\n      <td>0.00</td>\n      <td>0.00</td>\n      <td>0.00</td>\n      <td>...</td>\n      <td>0.0</td>\n      <td>0.000</td>\n      <td>0.000</td>\n      <td>0.0</td>\n      <td>0.353</td>\n      <td>0.000</td>\n      <td>0.000</td>\n      <td>1.555</td>\n      <td>4</td>\n      <td>14</td>\n    </tr>\n    <tr>\n      <th>4598</th>\n      <td>0.30</td>\n      <td>0.00</td>\n      <td>0.30</td>\n      <td>0.0</td>\n      <td>0.00</td>\n      <td>0.00</td>\n      <td>0.00</td>\n      <td>0.00</td>\n      <td>0.00</td>\n      <td>0.00</td>\n      <td>...</td>\n      <td>0.0</td>\n      <td>0.102</td>\n      <td>0.718</td>\n      <td>0.0</td>\n      <td>0.000</td>\n      <td>0.000</td>\n      <td>0.000</td>\n      <td>1.404</td>\n      <td>6</td>\n      <td>118</td>\n    </tr>\n    <tr>\n      <th>4599</th>\n      <td>0.96</td>\n      <td>0.00</td>\n      <td>0.00</td>\n      <td>0.0</td>\n      <td>0.32</td>\n      <td>0.00</td>\n      <td>0.00</td>\n      <td>0.00</td>\n      <td>0.00</td>\n      <td>0.00</td>\n      <td>...</td>\n      <td>0.0</td>\n      <td>0.000</td>\n      <td>0.057</td>\n      <td>0.0</td>\n      <td>0.000</td>\n      <td>0.000</td>\n      <td>0.000</td>\n      <td>1.147</td>\n      <td>5</td>\n      <td>78</td>\n    </tr>\n    <tr>\n      <th>4600</th>\n      <td>0.00</td>\n      <td>0.00</td>\n      <td>0.65</td>\n      <td>0.0</td>\n      <td>0.00</td>\n      <td>0.00</td>\n      <td>0.00</td>\n      <td>0.00</td>\n      <td>0.00</td>\n      <td>0.00</td>\n      <td>...</td>\n      <td>0.0</td>\n      <td>0.000</td>\n      <td>0.000</td>\n      <td>0.0</td>\n      <td>0.125</td>\n      <td>0.000</td>\n      <td>0.000</td>\n      <td>1.250</td>\n      <td>5</td>\n      <td>40</td>\n    </tr>\n  </tbody>\n</table>\n<p>4210 rows × 57 columns</p>\n</div>"
     },
     "execution_count": 97,
     "metadata": {},
     "output_type": "execute_result"
    }
   ],
   "source": [
    "y =Data.drop(columns=[\"spam_data\"])\n",
    "y"
   ],
   "metadata": {
    "collapsed": false
   }
  },
  {
   "cell_type": "code",
   "execution_count": 98,
   "outputs": [],
   "source": [
    "x_trains ,x_tests, y_trains ,y_tests = train_test_split(x,y,random_state=30, train_size=0.3)"
   ],
   "metadata": {
    "collapsed": false
   }
  },
  {
   "cell_type": "code",
   "execution_count": 104,
   "outputs": [],
   "source": [
    "from sklearn.preprocessing import StandardScaler\n",
    "standard_scaler =StandardScaler()\n",
    "standard_scaler.fit(x)\n",
    "scaled_data = standard_scaler.transform(x_trains)\n",
    "x_tests_scaled = standard_scaler.transform(x_tests)"
   ],
   "metadata": {
    "collapsed": false
   }
  },
  {
   "cell_type": "code",
   "execution_count": 109,
   "outputs": [],
   "source": [
    "from sklearn.decomposition import PCA\n",
    "PCA = PCA()\n",
    "X_PCA= PCA.fit_transform(scaled_data)"
   ],
   "metadata": {
    "collapsed": false
   }
  },
  {
   "cell_type": "code",
   "execution_count": null,
   "outputs": [],
   "source": [],
   "metadata": {
    "collapsed": false,
    "pycharm": {
     "is_executing": true
    }
   }
  },
  {
   "cell_type": "code",
   "execution_count": 88,
   "outputs": [],
   "source": [],
   "metadata": {
    "collapsed": false
   }
  }
 ],
 "metadata": {
  "kernelspec": {
   "display_name": "Python 3",
   "language": "python",
   "name": "python3"
  },
  "language_info": {
   "codemirror_mode": {
    "name": "ipython",
    "version": 2
   },
   "file_extension": ".py",
   "mimetype": "text/x-python",
   "name": "python",
   "nbconvert_exporter": "python",
   "pygments_lexer": "ipython2",
   "version": "2.7.6"
  }
 },
 "nbformat": 4,
 "nbformat_minor": 0
}
