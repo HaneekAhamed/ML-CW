{
 "cells": [
  {
   "cell_type": "code",
   "execution_count": 10,
   "metadata": {
    "collapsed": true
   },
   "outputs": [],
   "source": [
    "import pandas as pnd\n",
    "import numpy as num\n",
    "from sklearn.model_selection import train_test_split\n",
    "from sklearn.preprocessing import StandardScaler\n",
    "from sklearn.neighbors import KNeighborsClassifier\n",
    "from  sklearn.metrics import confusion_matrix\n",
    "from sklearn.metrics import f1_score\n",
    "from sklearn.metrics import accuracy_score\n",
    "from sklearn.tree import DecisionTreeClassifier\n"
   ]
  },
  {
   "cell_type": "code",
   "execution_count": 11,
   "outputs": [
    {
     "data": {
      "text/plain": "['word_freq_make:',\n 'word_freq_address:',\n 'word_freq_all:',\n 'word_freq_3d:',\n 'word_freq_our:',\n 'word_freq_over:',\n 'word_freq_remove:',\n 'word_freq_internet:',\n 'word_freq_order:',\n 'word_freq_mail:',\n 'word_freq_receive:',\n 'word_freq_will:',\n 'word_freq_people:',\n 'word_freq_report:',\n 'word_freq_addresses:',\n 'word_freq_free:',\n 'word_freq_business:',\n 'word_freq_email:',\n 'word_freq_you:',\n 'word_freq_credit:',\n 'word_freq_your:',\n 'word_freq_font:',\n 'word_freq_000:',\n 'word_freq_money:',\n 'word_freq_hp:',\n 'word_freq_hpl:',\n 'word_freq_george:',\n 'word_freq_650:',\n 'word_freq_lab:',\n 'word_freq_labs:',\n 'word_freq_telnet:',\n 'word_freq_857:',\n 'word_freq_data:',\n 'word_freq_415:',\n 'word_freq_85:',\n 'word_freq_technology:',\n 'word_freq_1999:',\n 'word_freq_parts:',\n 'word_freq_pm:',\n 'word_freq_direct:',\n 'word_freq_cs:',\n 'word_freq_meeting:',\n 'word_freq_original:',\n 'word_freq_project:',\n 'word_freq_re:',\n 'word_freq_edu:',\n 'word_freq_table:',\n 'word_freq_conference:',\n 'char_freq_;:',\n 'char_freq_(:',\n 'char_freq_[:',\n 'char_freq_!:',\n 'char_freq_$:',\n 'char_freq_#:',\n 'capital_run_length_average:',\n 'capital_run_length_longest:',\n 'capital_run_length_total:',\n 'spam_data']"
     },
     "execution_count": 11,
     "metadata": {},
     "output_type": "execute_result"
    }
   ],
   "source": [
    "Topic=pnd.read_csv(\"spam_base.names\" , skiprows= 32 ,sep=\"\\s+\", engine=\"python\", names=[\"attr\",\"\"])\n",
    "Topic=Topic[\"attr\"]\n",
    "Topic=list(Topic)\n",
    "Topic.append(\"spam_data\")\n",
    "Topic"
   ],
   "metadata": {
    "collapsed": false
   }
  },
  {
   "cell_type": "code",
   "execution_count": 12,
   "outputs": [],
   "source": [
    "Data = pnd.read_csv(\"spam_base.data\" , names=Topic , header=None)"
   ],
   "metadata": {
    "collapsed": false
   }
  },
  {
   "cell_type": "code",
   "execution_count": 13,
   "outputs": [
    {
     "name": "stdout",
     "output_type": "stream",
     "text": [
      "<bound method NDFrame.head of       word_freq_make:  word_freq_address:  word_freq_all:  word_freq_3d:  \\\n",
      "0                0.00                0.64            0.64            0.0   \n",
      "1                0.21                0.28            0.50            0.0   \n",
      "2                0.06                0.00            0.71            0.0   \n",
      "3                0.00                0.00            0.00            0.0   \n",
      "4                0.00                0.00            0.00            0.0   \n",
      "...               ...                 ...             ...            ...   \n",
      "4596             0.31                0.00            0.62            0.0   \n",
      "4597             0.00                0.00            0.00            0.0   \n",
      "4598             0.30                0.00            0.30            0.0   \n",
      "4599             0.96                0.00            0.00            0.0   \n",
      "4600             0.00                0.00            0.65            0.0   \n",
      "\n",
      "      word_freq_our:  word_freq_over:  word_freq_remove:  word_freq_internet:  \\\n",
      "0               0.32             0.00               0.00                 0.00   \n",
      "1               0.14             0.28               0.21                 0.07   \n",
      "2               1.23             0.19               0.19                 0.12   \n",
      "3               0.63             0.00               0.31                 0.63   \n",
      "4               0.63             0.00               0.31                 0.63   \n",
      "...              ...              ...                ...                  ...   \n",
      "4596            0.00             0.31               0.00                 0.00   \n",
      "4597            0.00             0.00               0.00                 0.00   \n",
      "4598            0.00             0.00               0.00                 0.00   \n",
      "4599            0.32             0.00               0.00                 0.00   \n",
      "4600            0.00             0.00               0.00                 0.00   \n",
      "\n",
      "      word_freq_order:  word_freq_mail:  ...  char_freq_;:  char_freq_(:  \\\n",
      "0                 0.00             0.00  ...         0.000         0.000   \n",
      "1                 0.00             0.94  ...         0.000         0.132   \n",
      "2                 0.64             0.25  ...         0.010         0.143   \n",
      "3                 0.31             0.63  ...         0.000         0.137   \n",
      "4                 0.31             0.63  ...         0.000         0.135   \n",
      "...                ...              ...  ...           ...           ...   \n",
      "4596              0.00             0.00  ...         0.000         0.232   \n",
      "4597              0.00             0.00  ...         0.000         0.000   \n",
      "4598              0.00             0.00  ...         0.102         0.718   \n",
      "4599              0.00             0.00  ...         0.000         0.057   \n",
      "4600              0.00             0.00  ...         0.000         0.000   \n",
      "\n",
      "      char_freq_[:  char_freq_!:  char_freq_$:  char_freq_#:  \\\n",
      "0              0.0         0.778         0.000         0.000   \n",
      "1              0.0         0.372         0.180         0.048   \n",
      "2              0.0         0.276         0.184         0.010   \n",
      "3              0.0         0.137         0.000         0.000   \n",
      "4              0.0         0.135         0.000         0.000   \n",
      "...            ...           ...           ...           ...   \n",
      "4596           0.0         0.000         0.000         0.000   \n",
      "4597           0.0         0.353         0.000         0.000   \n",
      "4598           0.0         0.000         0.000         0.000   \n",
      "4599           0.0         0.000         0.000         0.000   \n",
      "4600           0.0         0.125         0.000         0.000   \n",
      "\n",
      "      capital_run_length_average:  capital_run_length_longest:  \\\n",
      "0                           3.756                           61   \n",
      "1                           5.114                          101   \n",
      "2                           9.821                          485   \n",
      "3                           3.537                           40   \n",
      "4                           3.537                           40   \n",
      "...                           ...                          ...   \n",
      "4596                        1.142                            3   \n",
      "4597                        1.555                            4   \n",
      "4598                        1.404                            6   \n",
      "4599                        1.147                            5   \n",
      "4600                        1.250                            5   \n",
      "\n",
      "      capital_run_length_total:  spam_data  \n",
      "0                           278          1  \n",
      "1                          1028          1  \n",
      "2                          2259          1  \n",
      "3                           191          1  \n",
      "4                           191          1  \n",
      "...                         ...        ...  \n",
      "4596                         88          0  \n",
      "4597                         14          0  \n",
      "4598                        118          0  \n",
      "4599                         78          0  \n",
      "4600                         40          0  \n",
      "\n",
      "[4601 rows x 58 columns]>\n"
     ]
    }
   ],
   "source": [
    "print(Data.head)"
   ],
   "metadata": {
    "collapsed": false
   }
  },
  {
   "cell_type": "code",
   "execution_count": 14,
   "outputs": [
    {
     "data": {
      "text/plain": "<bound method NDFrame.describe of       word_freq_make:  word_freq_address:  word_freq_all:  word_freq_3d:  \\\n0                0.00                0.64            0.64            0.0   \n1                0.21                0.28            0.50            0.0   \n2                0.06                0.00            0.71            0.0   \n3                0.00                0.00            0.00            0.0   \n4                0.00                0.00            0.00            0.0   \n...               ...                 ...             ...            ...   \n4596             0.31                0.00            0.62            0.0   \n4597             0.00                0.00            0.00            0.0   \n4598             0.30                0.00            0.30            0.0   \n4599             0.96                0.00            0.00            0.0   \n4600             0.00                0.00            0.65            0.0   \n\n      word_freq_our:  word_freq_over:  word_freq_remove:  word_freq_internet:  \\\n0               0.32             0.00               0.00                 0.00   \n1               0.14             0.28               0.21                 0.07   \n2               1.23             0.19               0.19                 0.12   \n3               0.63             0.00               0.31                 0.63   \n4               0.63             0.00               0.31                 0.63   \n...              ...              ...                ...                  ...   \n4596            0.00             0.31               0.00                 0.00   \n4597            0.00             0.00               0.00                 0.00   \n4598            0.00             0.00               0.00                 0.00   \n4599            0.32             0.00               0.00                 0.00   \n4600            0.00             0.00               0.00                 0.00   \n\n      word_freq_order:  word_freq_mail:  ...  char_freq_;:  char_freq_(:  \\\n0                 0.00             0.00  ...         0.000         0.000   \n1                 0.00             0.94  ...         0.000         0.132   \n2                 0.64             0.25  ...         0.010         0.143   \n3                 0.31             0.63  ...         0.000         0.137   \n4                 0.31             0.63  ...         0.000         0.135   \n...                ...              ...  ...           ...           ...   \n4596              0.00             0.00  ...         0.000         0.232   \n4597              0.00             0.00  ...         0.000         0.000   \n4598              0.00             0.00  ...         0.102         0.718   \n4599              0.00             0.00  ...         0.000         0.057   \n4600              0.00             0.00  ...         0.000         0.000   \n\n      char_freq_[:  char_freq_!:  char_freq_$:  char_freq_#:  \\\n0              0.0         0.778         0.000         0.000   \n1              0.0         0.372         0.180         0.048   \n2              0.0         0.276         0.184         0.010   \n3              0.0         0.137         0.000         0.000   \n4              0.0         0.135         0.000         0.000   \n...            ...           ...           ...           ...   \n4596           0.0         0.000         0.000         0.000   \n4597           0.0         0.353         0.000         0.000   \n4598           0.0         0.000         0.000         0.000   \n4599           0.0         0.000         0.000         0.000   \n4600           0.0         0.125         0.000         0.000   \n\n      capital_run_length_average:  capital_run_length_longest:  \\\n0                           3.756                           61   \n1                           5.114                          101   \n2                           9.821                          485   \n3                           3.537                           40   \n4                           3.537                           40   \n...                           ...                          ...   \n4596                        1.142                            3   \n4597                        1.555                            4   \n4598                        1.404                            6   \n4599                        1.147                            5   \n4600                        1.250                            5   \n\n      capital_run_length_total:  spam_data  \n0                           278          1  \n1                          1028          1  \n2                          2259          1  \n3                           191          1  \n4                           191          1  \n...                         ...        ...  \n4596                         88          0  \n4597                         14          0  \n4598                        118          0  \n4599                         78          0  \n4600                         40          0  \n\n[4601 rows x 58 columns]>"
     },
     "execution_count": 14,
     "metadata": {},
     "output_type": "execute_result"
    }
   ],
   "source": [
    "Data.describe"
   ],
   "metadata": {
    "collapsed": false
   }
  },
  {
   "cell_type": "code",
   "execution_count": 15,
   "outputs": [
    {
     "name": "stdout",
     "output_type": "stream",
     "text": [
      "False    4210\n",
      "True      391\n",
      "dtype: int64\n"
     ]
    }
   ],
   "source": [
    "print((Data.duplicated().value_counts()))"
   ],
   "metadata": {
    "collapsed": false
   }
  },
  {
   "cell_type": "code",
   "execution_count": 16,
   "outputs": [
    {
     "data": {
      "text/plain": "<bound method NDFrame.head of       word_freq_make:  word_freq_address:  word_freq_all:  word_freq_3d:  \\\n0                0.00                0.64            0.64            0.0   \n1                0.21                0.28            0.50            0.0   \n2                0.06                0.00            0.71            0.0   \n3                0.00                0.00            0.00            0.0   \n4                0.00                0.00            0.00            0.0   \n...               ...                 ...             ...            ...   \n4596             0.31                0.00            0.62            0.0   \n4597             0.00                0.00            0.00            0.0   \n4598             0.30                0.00            0.30            0.0   \n4599             0.96                0.00            0.00            0.0   \n4600             0.00                0.00            0.65            0.0   \n\n      word_freq_our:  word_freq_over:  word_freq_remove:  word_freq_internet:  \\\n0               0.32             0.00               0.00                 0.00   \n1               0.14             0.28               0.21                 0.07   \n2               1.23             0.19               0.19                 0.12   \n3               0.63             0.00               0.31                 0.63   \n4               0.63             0.00               0.31                 0.63   \n...              ...              ...                ...                  ...   \n4596            0.00             0.31               0.00                 0.00   \n4597            0.00             0.00               0.00                 0.00   \n4598            0.00             0.00               0.00                 0.00   \n4599            0.32             0.00               0.00                 0.00   \n4600            0.00             0.00               0.00                 0.00   \n\n      word_freq_order:  word_freq_mail:  ...  char_freq_;:  char_freq_(:  \\\n0                 0.00             0.00  ...         0.000         0.000   \n1                 0.00             0.94  ...         0.000         0.132   \n2                 0.64             0.25  ...         0.010         0.143   \n3                 0.31             0.63  ...         0.000         0.137   \n4                 0.31             0.63  ...         0.000         0.135   \n...                ...              ...  ...           ...           ...   \n4596              0.00             0.00  ...         0.000         0.232   \n4597              0.00             0.00  ...         0.000         0.000   \n4598              0.00             0.00  ...         0.102         0.718   \n4599              0.00             0.00  ...         0.000         0.057   \n4600              0.00             0.00  ...         0.000         0.000   \n\n      char_freq_[:  char_freq_!:  char_freq_$:  char_freq_#:  \\\n0              0.0         0.778         0.000         0.000   \n1              0.0         0.372         0.180         0.048   \n2              0.0         0.276         0.184         0.010   \n3              0.0         0.137         0.000         0.000   \n4              0.0         0.135         0.000         0.000   \n...            ...           ...           ...           ...   \n4596           0.0         0.000         0.000         0.000   \n4597           0.0         0.353         0.000         0.000   \n4598           0.0         0.000         0.000         0.000   \n4599           0.0         0.000         0.000         0.000   \n4600           0.0         0.125         0.000         0.000   \n\n      capital_run_length_average:  capital_run_length_longest:  \\\n0                           3.756                           61   \n1                           5.114                          101   \n2                           9.821                          485   \n3                           3.537                           40   \n4                           3.537                           40   \n...                           ...                          ...   \n4596                        1.142                            3   \n4597                        1.555                            4   \n4598                        1.404                            6   \n4599                        1.147                            5   \n4600                        1.250                            5   \n\n      capital_run_length_total:  spam_data  \n0                           278          1  \n1                          1028          1  \n2                          2259          1  \n3                           191          1  \n4                           191          1  \n...                         ...        ...  \n4596                         88          0  \n4597                         14          0  \n4598                        118          0  \n4599                         78          0  \n4600                         40          0  \n\n[4210 rows x 58 columns]>"
     },
     "execution_count": 16,
     "metadata": {},
     "output_type": "execute_result"
    }
   ],
   "source": [
    "Data = Data.drop_duplicates()\n",
    "Data.head"
   ],
   "metadata": {
    "collapsed": false
   }
  },
  {
   "cell_type": "code",
   "execution_count": 17,
   "outputs": [
    {
     "data": {
      "text/plain": "word_freq_make:                0\nword_freq_address:             0\nword_freq_all:                 0\nword_freq_3d:                  0\nword_freq_our:                 0\nword_freq_over:                0\nword_freq_remove:              0\nword_freq_internet:            0\nword_freq_order:               0\nword_freq_mail:                0\nword_freq_receive:             0\nword_freq_will:                0\nword_freq_people:              0\nword_freq_report:              0\nword_freq_addresses:           0\nword_freq_free:                0\nword_freq_business:            0\nword_freq_email:               0\nword_freq_you:                 0\nword_freq_credit:              0\nword_freq_your:                0\nword_freq_font:                0\nword_freq_000:                 0\nword_freq_money:               0\nword_freq_hp:                  0\nword_freq_hpl:                 0\nword_freq_george:              0\nword_freq_650:                 0\nword_freq_lab:                 0\nword_freq_labs:                0\nword_freq_telnet:              0\nword_freq_857:                 0\nword_freq_data:                0\nword_freq_415:                 0\nword_freq_85:                  0\nword_freq_technology:          0\nword_freq_1999:                0\nword_freq_parts:               0\nword_freq_pm:                  0\nword_freq_direct:              0\nword_freq_cs:                  0\nword_freq_meeting:             0\nword_freq_original:            0\nword_freq_project:             0\nword_freq_re:                  0\nword_freq_edu:                 0\nword_freq_table:               0\nword_freq_conference:          0\nchar_freq_;:                   0\nchar_freq_(:                   0\nchar_freq_[:                   0\nchar_freq_!:                   0\nchar_freq_$:                   0\nchar_freq_#:                   0\ncapital_run_length_average:    0\ncapital_run_length_longest:    0\ncapital_run_length_total:      0\nspam_data                      0\ndtype: int64"
     },
     "execution_count": 17,
     "metadata": {},
     "output_type": "execute_result"
    }
   ],
   "source": [
    "Data.isna().sum()"
   ],
   "metadata": {
    "collapsed": false
   }
  },
  {
   "cell_type": "code",
   "execution_count": 18,
   "outputs": [
    {
     "data": {
      "text/plain": "      word_freq_make:  word_freq_address:  word_freq_all:  word_freq_3d:  \\\n0                0.00                0.64            0.64            0.0   \n1                0.21                0.28            0.50            0.0   \n2                0.06                0.00            0.71            0.0   \n3                0.00                0.00            0.00            0.0   \n4                0.00                0.00            0.00            0.0   \n...               ...                 ...             ...            ...   \n4596             0.31                0.00            0.62            0.0   \n4597             0.00                0.00            0.00            0.0   \n4598             0.30                0.00            0.30            0.0   \n4599             0.96                0.00            0.00            0.0   \n4600             0.00                0.00            0.65            0.0   \n\n      word_freq_our:  word_freq_over:  word_freq_remove:  word_freq_internet:  \\\n0               0.32             0.00               0.00                 0.00   \n1               0.14             0.28               0.21                 0.07   \n2               1.23             0.19               0.19                 0.12   \n3               0.63             0.00               0.31                 0.63   \n4               0.63             0.00               0.31                 0.63   \n...              ...              ...                ...                  ...   \n4596            0.00             0.31               0.00                 0.00   \n4597            0.00             0.00               0.00                 0.00   \n4598            0.00             0.00               0.00                 0.00   \n4599            0.32             0.00               0.00                 0.00   \n4600            0.00             0.00               0.00                 0.00   \n\n      word_freq_order:  word_freq_mail:  ...  word_freq_conference:  \\\n0                 0.00             0.00  ...                    0.0   \n1                 0.00             0.94  ...                    0.0   \n2                 0.64             0.25  ...                    0.0   \n3                 0.31             0.63  ...                    0.0   \n4                 0.31             0.63  ...                    0.0   \n...                ...              ...  ...                    ...   \n4596              0.00             0.00  ...                    0.0   \n4597              0.00             0.00  ...                    0.0   \n4598              0.00             0.00  ...                    0.0   \n4599              0.00             0.00  ...                    0.0   \n4600              0.00             0.00  ...                    0.0   \n\n      char_freq_;:  char_freq_(:  char_freq_[:  char_freq_!:  char_freq_$:  \\\n0            0.000         0.000           0.0         0.778         0.000   \n1            0.000         0.132           0.0         0.372         0.180   \n2            0.010         0.143           0.0         0.276         0.184   \n3            0.000         0.137           0.0         0.137         0.000   \n4            0.000         0.135           0.0         0.135         0.000   \n...            ...           ...           ...           ...           ...   \n4596         0.000         0.232           0.0         0.000         0.000   \n4597         0.000         0.000           0.0         0.353         0.000   \n4598         0.102         0.718           0.0         0.000         0.000   \n4599         0.000         0.057           0.0         0.000         0.000   \n4600         0.000         0.000           0.0         0.125         0.000   \n\n      char_freq_#:  capital_run_length_average:  capital_run_length_longest:  \\\n0            0.000                        3.756                           61   \n1            0.048                        5.114                          101   \n2            0.010                        9.821                          485   \n3            0.000                        3.537                           40   \n4            0.000                        3.537                           40   \n...            ...                          ...                          ...   \n4596         0.000                        1.142                            3   \n4597         0.000                        1.555                            4   \n4598         0.000                        1.404                            6   \n4599         0.000                        1.147                            5   \n4600         0.000                        1.250                            5   \n\n      capital_run_length_total:  \n0                           278  \n1                          1028  \n2                          2259  \n3                           191  \n4                           191  \n...                         ...  \n4596                         88  \n4597                         14  \n4598                        118  \n4599                         78  \n4600                         40  \n\n[4210 rows x 57 columns]",
      "text/html": "<div>\n<style scoped>\n    .dataframe tbody tr th:only-of-type {\n        vertical-align: middle;\n    }\n\n    .dataframe tbody tr th {\n        vertical-align: top;\n    }\n\n    .dataframe thead th {\n        text-align: right;\n    }\n</style>\n<table border=\"1\" class=\"dataframe\">\n  <thead>\n    <tr style=\"text-align: right;\">\n      <th></th>\n      <th>word_freq_make:</th>\n      <th>word_freq_address:</th>\n      <th>word_freq_all:</th>\n      <th>word_freq_3d:</th>\n      <th>word_freq_our:</th>\n      <th>word_freq_over:</th>\n      <th>word_freq_remove:</th>\n      <th>word_freq_internet:</th>\n      <th>word_freq_order:</th>\n      <th>word_freq_mail:</th>\n      <th>...</th>\n      <th>word_freq_conference:</th>\n      <th>char_freq_;:</th>\n      <th>char_freq_(:</th>\n      <th>char_freq_[:</th>\n      <th>char_freq_!:</th>\n      <th>char_freq_$:</th>\n      <th>char_freq_#:</th>\n      <th>capital_run_length_average:</th>\n      <th>capital_run_length_longest:</th>\n      <th>capital_run_length_total:</th>\n    </tr>\n  </thead>\n  <tbody>\n    <tr>\n      <th>0</th>\n      <td>0.00</td>\n      <td>0.64</td>\n      <td>0.64</td>\n      <td>0.0</td>\n      <td>0.32</td>\n      <td>0.00</td>\n      <td>0.00</td>\n      <td>0.00</td>\n      <td>0.00</td>\n      <td>0.00</td>\n      <td>...</td>\n      <td>0.0</td>\n      <td>0.000</td>\n      <td>0.000</td>\n      <td>0.0</td>\n      <td>0.778</td>\n      <td>0.000</td>\n      <td>0.000</td>\n      <td>3.756</td>\n      <td>61</td>\n      <td>278</td>\n    </tr>\n    <tr>\n      <th>1</th>\n      <td>0.21</td>\n      <td>0.28</td>\n      <td>0.50</td>\n      <td>0.0</td>\n      <td>0.14</td>\n      <td>0.28</td>\n      <td>0.21</td>\n      <td>0.07</td>\n      <td>0.00</td>\n      <td>0.94</td>\n      <td>...</td>\n      <td>0.0</td>\n      <td>0.000</td>\n      <td>0.132</td>\n      <td>0.0</td>\n      <td>0.372</td>\n      <td>0.180</td>\n      <td>0.048</td>\n      <td>5.114</td>\n      <td>101</td>\n      <td>1028</td>\n    </tr>\n    <tr>\n      <th>2</th>\n      <td>0.06</td>\n      <td>0.00</td>\n      <td>0.71</td>\n      <td>0.0</td>\n      <td>1.23</td>\n      <td>0.19</td>\n      <td>0.19</td>\n      <td>0.12</td>\n      <td>0.64</td>\n      <td>0.25</td>\n      <td>...</td>\n      <td>0.0</td>\n      <td>0.010</td>\n      <td>0.143</td>\n      <td>0.0</td>\n      <td>0.276</td>\n      <td>0.184</td>\n      <td>0.010</td>\n      <td>9.821</td>\n      <td>485</td>\n      <td>2259</td>\n    </tr>\n    <tr>\n      <th>3</th>\n      <td>0.00</td>\n      <td>0.00</td>\n      <td>0.00</td>\n      <td>0.0</td>\n      <td>0.63</td>\n      <td>0.00</td>\n      <td>0.31</td>\n      <td>0.63</td>\n      <td>0.31</td>\n      <td>0.63</td>\n      <td>...</td>\n      <td>0.0</td>\n      <td>0.000</td>\n      <td>0.137</td>\n      <td>0.0</td>\n      <td>0.137</td>\n      <td>0.000</td>\n      <td>0.000</td>\n      <td>3.537</td>\n      <td>40</td>\n      <td>191</td>\n    </tr>\n    <tr>\n      <th>4</th>\n      <td>0.00</td>\n      <td>0.00</td>\n      <td>0.00</td>\n      <td>0.0</td>\n      <td>0.63</td>\n      <td>0.00</td>\n      <td>0.31</td>\n      <td>0.63</td>\n      <td>0.31</td>\n      <td>0.63</td>\n      <td>...</td>\n      <td>0.0</td>\n      <td>0.000</td>\n      <td>0.135</td>\n      <td>0.0</td>\n      <td>0.135</td>\n      <td>0.000</td>\n      <td>0.000</td>\n      <td>3.537</td>\n      <td>40</td>\n      <td>191</td>\n    </tr>\n    <tr>\n      <th>...</th>\n      <td>...</td>\n      <td>...</td>\n      <td>...</td>\n      <td>...</td>\n      <td>...</td>\n      <td>...</td>\n      <td>...</td>\n      <td>...</td>\n      <td>...</td>\n      <td>...</td>\n      <td>...</td>\n      <td>...</td>\n      <td>...</td>\n      <td>...</td>\n      <td>...</td>\n      <td>...</td>\n      <td>...</td>\n      <td>...</td>\n      <td>...</td>\n      <td>...</td>\n      <td>...</td>\n    </tr>\n    <tr>\n      <th>4596</th>\n      <td>0.31</td>\n      <td>0.00</td>\n      <td>0.62</td>\n      <td>0.0</td>\n      <td>0.00</td>\n      <td>0.31</td>\n      <td>0.00</td>\n      <td>0.00</td>\n      <td>0.00</td>\n      <td>0.00</td>\n      <td>...</td>\n      <td>0.0</td>\n      <td>0.000</td>\n      <td>0.232</td>\n      <td>0.0</td>\n      <td>0.000</td>\n      <td>0.000</td>\n      <td>0.000</td>\n      <td>1.142</td>\n      <td>3</td>\n      <td>88</td>\n    </tr>\n    <tr>\n      <th>4597</th>\n      <td>0.00</td>\n      <td>0.00</td>\n      <td>0.00</td>\n      <td>0.0</td>\n      <td>0.00</td>\n      <td>0.00</td>\n      <td>0.00</td>\n      <td>0.00</td>\n      <td>0.00</td>\n      <td>0.00</td>\n      <td>...</td>\n      <td>0.0</td>\n      <td>0.000</td>\n      <td>0.000</td>\n      <td>0.0</td>\n      <td>0.353</td>\n      <td>0.000</td>\n      <td>0.000</td>\n      <td>1.555</td>\n      <td>4</td>\n      <td>14</td>\n    </tr>\n    <tr>\n      <th>4598</th>\n      <td>0.30</td>\n      <td>0.00</td>\n      <td>0.30</td>\n      <td>0.0</td>\n      <td>0.00</td>\n      <td>0.00</td>\n      <td>0.00</td>\n      <td>0.00</td>\n      <td>0.00</td>\n      <td>0.00</td>\n      <td>...</td>\n      <td>0.0</td>\n      <td>0.102</td>\n      <td>0.718</td>\n      <td>0.0</td>\n      <td>0.000</td>\n      <td>0.000</td>\n      <td>0.000</td>\n      <td>1.404</td>\n      <td>6</td>\n      <td>118</td>\n    </tr>\n    <tr>\n      <th>4599</th>\n      <td>0.96</td>\n      <td>0.00</td>\n      <td>0.00</td>\n      <td>0.0</td>\n      <td>0.32</td>\n      <td>0.00</td>\n      <td>0.00</td>\n      <td>0.00</td>\n      <td>0.00</td>\n      <td>0.00</td>\n      <td>...</td>\n      <td>0.0</td>\n      <td>0.000</td>\n      <td>0.057</td>\n      <td>0.0</td>\n      <td>0.000</td>\n      <td>0.000</td>\n      <td>0.000</td>\n      <td>1.147</td>\n      <td>5</td>\n      <td>78</td>\n    </tr>\n    <tr>\n      <th>4600</th>\n      <td>0.00</td>\n      <td>0.00</td>\n      <td>0.65</td>\n      <td>0.0</td>\n      <td>0.00</td>\n      <td>0.00</td>\n      <td>0.00</td>\n      <td>0.00</td>\n      <td>0.00</td>\n      <td>0.00</td>\n      <td>...</td>\n      <td>0.0</td>\n      <td>0.000</td>\n      <td>0.000</td>\n      <td>0.0</td>\n      <td>0.125</td>\n      <td>0.000</td>\n      <td>0.000</td>\n      <td>1.250</td>\n      <td>5</td>\n      <td>40</td>\n    </tr>\n  </tbody>\n</table>\n<p>4210 rows × 57 columns</p>\n</div>"
     },
     "execution_count": 18,
     "metadata": {},
     "output_type": "execute_result"
    }
   ],
   "source": [
    "x = Data.drop(columns=[\"spam_data\"])\n",
    "x"
   ],
   "metadata": {
    "collapsed": false
   }
  },
  {
   "cell_type": "code",
   "execution_count": 19,
   "outputs": [
    {
     "data": {
      "text/plain": "      word_freq_make:  word_freq_address:  word_freq_all:  word_freq_3d:  \\\n0                0.00                0.64            0.64            0.0   \n1                0.21                0.28            0.50            0.0   \n2                0.06                0.00            0.71            0.0   \n3                0.00                0.00            0.00            0.0   \n4                0.00                0.00            0.00            0.0   \n...               ...                 ...             ...            ...   \n4596             0.31                0.00            0.62            0.0   \n4597             0.00                0.00            0.00            0.0   \n4598             0.30                0.00            0.30            0.0   \n4599             0.96                0.00            0.00            0.0   \n4600             0.00                0.00            0.65            0.0   \n\n      word_freq_our:  word_freq_over:  word_freq_remove:  word_freq_internet:  \\\n0               0.32             0.00               0.00                 0.00   \n1               0.14             0.28               0.21                 0.07   \n2               1.23             0.19               0.19                 0.12   \n3               0.63             0.00               0.31                 0.63   \n4               0.63             0.00               0.31                 0.63   \n...              ...              ...                ...                  ...   \n4596            0.00             0.31               0.00                 0.00   \n4597            0.00             0.00               0.00                 0.00   \n4598            0.00             0.00               0.00                 0.00   \n4599            0.32             0.00               0.00                 0.00   \n4600            0.00             0.00               0.00                 0.00   \n\n      word_freq_order:  word_freq_mail:  ...  word_freq_conference:  \\\n0                 0.00             0.00  ...                    0.0   \n1                 0.00             0.94  ...                    0.0   \n2                 0.64             0.25  ...                    0.0   \n3                 0.31             0.63  ...                    0.0   \n4                 0.31             0.63  ...                    0.0   \n...                ...              ...  ...                    ...   \n4596              0.00             0.00  ...                    0.0   \n4597              0.00             0.00  ...                    0.0   \n4598              0.00             0.00  ...                    0.0   \n4599              0.00             0.00  ...                    0.0   \n4600              0.00             0.00  ...                    0.0   \n\n      char_freq_;:  char_freq_(:  char_freq_[:  char_freq_!:  char_freq_$:  \\\n0            0.000         0.000           0.0         0.778         0.000   \n1            0.000         0.132           0.0         0.372         0.180   \n2            0.010         0.143           0.0         0.276         0.184   \n3            0.000         0.137           0.0         0.137         0.000   \n4            0.000         0.135           0.0         0.135         0.000   \n...            ...           ...           ...           ...           ...   \n4596         0.000         0.232           0.0         0.000         0.000   \n4597         0.000         0.000           0.0         0.353         0.000   \n4598         0.102         0.718           0.0         0.000         0.000   \n4599         0.000         0.057           0.0         0.000         0.000   \n4600         0.000         0.000           0.0         0.125         0.000   \n\n      char_freq_#:  capital_run_length_average:  capital_run_length_longest:  \\\n0            0.000                        3.756                           61   \n1            0.048                        5.114                          101   \n2            0.010                        9.821                          485   \n3            0.000                        3.537                           40   \n4            0.000                        3.537                           40   \n...            ...                          ...                          ...   \n4596         0.000                        1.142                            3   \n4597         0.000                        1.555                            4   \n4598         0.000                        1.404                            6   \n4599         0.000                        1.147                            5   \n4600         0.000                        1.250                            5   \n\n      capital_run_length_total:  \n0                           278  \n1                          1028  \n2                          2259  \n3                           191  \n4                           191  \n...                         ...  \n4596                         88  \n4597                         14  \n4598                        118  \n4599                         78  \n4600                         40  \n\n[4210 rows x 57 columns]",
      "text/html": "<div>\n<style scoped>\n    .dataframe tbody tr th:only-of-type {\n        vertical-align: middle;\n    }\n\n    .dataframe tbody tr th {\n        vertical-align: top;\n    }\n\n    .dataframe thead th {\n        text-align: right;\n    }\n</style>\n<table border=\"1\" class=\"dataframe\">\n  <thead>\n    <tr style=\"text-align: right;\">\n      <th></th>\n      <th>word_freq_make:</th>\n      <th>word_freq_address:</th>\n      <th>word_freq_all:</th>\n      <th>word_freq_3d:</th>\n      <th>word_freq_our:</th>\n      <th>word_freq_over:</th>\n      <th>word_freq_remove:</th>\n      <th>word_freq_internet:</th>\n      <th>word_freq_order:</th>\n      <th>word_freq_mail:</th>\n      <th>...</th>\n      <th>word_freq_conference:</th>\n      <th>char_freq_;:</th>\n      <th>char_freq_(:</th>\n      <th>char_freq_[:</th>\n      <th>char_freq_!:</th>\n      <th>char_freq_$:</th>\n      <th>char_freq_#:</th>\n      <th>capital_run_length_average:</th>\n      <th>capital_run_length_longest:</th>\n      <th>capital_run_length_total:</th>\n    </tr>\n  </thead>\n  <tbody>\n    <tr>\n      <th>0</th>\n      <td>0.00</td>\n      <td>0.64</td>\n      <td>0.64</td>\n      <td>0.0</td>\n      <td>0.32</td>\n      <td>0.00</td>\n      <td>0.00</td>\n      <td>0.00</td>\n      <td>0.00</td>\n      <td>0.00</td>\n      <td>...</td>\n      <td>0.0</td>\n      <td>0.000</td>\n      <td>0.000</td>\n      <td>0.0</td>\n      <td>0.778</td>\n      <td>0.000</td>\n      <td>0.000</td>\n      <td>3.756</td>\n      <td>61</td>\n      <td>278</td>\n    </tr>\n    <tr>\n      <th>1</th>\n      <td>0.21</td>\n      <td>0.28</td>\n      <td>0.50</td>\n      <td>0.0</td>\n      <td>0.14</td>\n      <td>0.28</td>\n      <td>0.21</td>\n      <td>0.07</td>\n      <td>0.00</td>\n      <td>0.94</td>\n      <td>...</td>\n      <td>0.0</td>\n      <td>0.000</td>\n      <td>0.132</td>\n      <td>0.0</td>\n      <td>0.372</td>\n      <td>0.180</td>\n      <td>0.048</td>\n      <td>5.114</td>\n      <td>101</td>\n      <td>1028</td>\n    </tr>\n    <tr>\n      <th>2</th>\n      <td>0.06</td>\n      <td>0.00</td>\n      <td>0.71</td>\n      <td>0.0</td>\n      <td>1.23</td>\n      <td>0.19</td>\n      <td>0.19</td>\n      <td>0.12</td>\n      <td>0.64</td>\n      <td>0.25</td>\n      <td>...</td>\n      <td>0.0</td>\n      <td>0.010</td>\n      <td>0.143</td>\n      <td>0.0</td>\n      <td>0.276</td>\n      <td>0.184</td>\n      <td>0.010</td>\n      <td>9.821</td>\n      <td>485</td>\n      <td>2259</td>\n    </tr>\n    <tr>\n      <th>3</th>\n      <td>0.00</td>\n      <td>0.00</td>\n      <td>0.00</td>\n      <td>0.0</td>\n      <td>0.63</td>\n      <td>0.00</td>\n      <td>0.31</td>\n      <td>0.63</td>\n      <td>0.31</td>\n      <td>0.63</td>\n      <td>...</td>\n      <td>0.0</td>\n      <td>0.000</td>\n      <td>0.137</td>\n      <td>0.0</td>\n      <td>0.137</td>\n      <td>0.000</td>\n      <td>0.000</td>\n      <td>3.537</td>\n      <td>40</td>\n      <td>191</td>\n    </tr>\n    <tr>\n      <th>4</th>\n      <td>0.00</td>\n      <td>0.00</td>\n      <td>0.00</td>\n      <td>0.0</td>\n      <td>0.63</td>\n      <td>0.00</td>\n      <td>0.31</td>\n      <td>0.63</td>\n      <td>0.31</td>\n      <td>0.63</td>\n      <td>...</td>\n      <td>0.0</td>\n      <td>0.000</td>\n      <td>0.135</td>\n      <td>0.0</td>\n      <td>0.135</td>\n      <td>0.000</td>\n      <td>0.000</td>\n      <td>3.537</td>\n      <td>40</td>\n      <td>191</td>\n    </tr>\n    <tr>\n      <th>...</th>\n      <td>...</td>\n      <td>...</td>\n      <td>...</td>\n      <td>...</td>\n      <td>...</td>\n      <td>...</td>\n      <td>...</td>\n      <td>...</td>\n      <td>...</td>\n      <td>...</td>\n      <td>...</td>\n      <td>...</td>\n      <td>...</td>\n      <td>...</td>\n      <td>...</td>\n      <td>...</td>\n      <td>...</td>\n      <td>...</td>\n      <td>...</td>\n      <td>...</td>\n      <td>...</td>\n    </tr>\n    <tr>\n      <th>4596</th>\n      <td>0.31</td>\n      <td>0.00</td>\n      <td>0.62</td>\n      <td>0.0</td>\n      <td>0.00</td>\n      <td>0.31</td>\n      <td>0.00</td>\n      <td>0.00</td>\n      <td>0.00</td>\n      <td>0.00</td>\n      <td>...</td>\n      <td>0.0</td>\n      <td>0.000</td>\n      <td>0.232</td>\n      <td>0.0</td>\n      <td>0.000</td>\n      <td>0.000</td>\n      <td>0.000</td>\n      <td>1.142</td>\n      <td>3</td>\n      <td>88</td>\n    </tr>\n    <tr>\n      <th>4597</th>\n      <td>0.00</td>\n      <td>0.00</td>\n      <td>0.00</td>\n      <td>0.0</td>\n      <td>0.00</td>\n      <td>0.00</td>\n      <td>0.00</td>\n      <td>0.00</td>\n      <td>0.00</td>\n      <td>0.00</td>\n      <td>...</td>\n      <td>0.0</td>\n      <td>0.000</td>\n      <td>0.000</td>\n      <td>0.0</td>\n      <td>0.353</td>\n      <td>0.000</td>\n      <td>0.000</td>\n      <td>1.555</td>\n      <td>4</td>\n      <td>14</td>\n    </tr>\n    <tr>\n      <th>4598</th>\n      <td>0.30</td>\n      <td>0.00</td>\n      <td>0.30</td>\n      <td>0.0</td>\n      <td>0.00</td>\n      <td>0.00</td>\n      <td>0.00</td>\n      <td>0.00</td>\n      <td>0.00</td>\n      <td>0.00</td>\n      <td>...</td>\n      <td>0.0</td>\n      <td>0.102</td>\n      <td>0.718</td>\n      <td>0.0</td>\n      <td>0.000</td>\n      <td>0.000</td>\n      <td>0.000</td>\n      <td>1.404</td>\n      <td>6</td>\n      <td>118</td>\n    </tr>\n    <tr>\n      <th>4599</th>\n      <td>0.96</td>\n      <td>0.00</td>\n      <td>0.00</td>\n      <td>0.0</td>\n      <td>0.32</td>\n      <td>0.00</td>\n      <td>0.00</td>\n      <td>0.00</td>\n      <td>0.00</td>\n      <td>0.00</td>\n      <td>...</td>\n      <td>0.0</td>\n      <td>0.000</td>\n      <td>0.057</td>\n      <td>0.0</td>\n      <td>0.000</td>\n      <td>0.000</td>\n      <td>0.000</td>\n      <td>1.147</td>\n      <td>5</td>\n      <td>78</td>\n    </tr>\n    <tr>\n      <th>4600</th>\n      <td>0.00</td>\n      <td>0.00</td>\n      <td>0.65</td>\n      <td>0.0</td>\n      <td>0.00</td>\n      <td>0.00</td>\n      <td>0.00</td>\n      <td>0.00</td>\n      <td>0.00</td>\n      <td>0.00</td>\n      <td>...</td>\n      <td>0.0</td>\n      <td>0.000</td>\n      <td>0.000</td>\n      <td>0.0</td>\n      <td>0.125</td>\n      <td>0.000</td>\n      <td>0.000</td>\n      <td>1.250</td>\n      <td>5</td>\n      <td>40</td>\n    </tr>\n  </tbody>\n</table>\n<p>4210 rows × 57 columns</p>\n</div>"
     },
     "execution_count": 19,
     "metadata": {},
     "output_type": "execute_result"
    }
   ],
   "source": [
    "y =Data.drop(columns=[\"spam_data\"])\n",
    "y"
   ],
   "metadata": {
    "collapsed": false
   }
  },
  {
   "cell_type": "code",
   "execution_count": 20,
   "outputs": [],
   "source": [
    "from sklearn.model_selection import train_test_split\n",
    "x_trains ,x_tests, y_trains ,y_tests = train_test_split(x,y,random_state=6, train_size=0.3)"
   ],
   "metadata": {
    "collapsed": false
   }
  },
  {
   "cell_type": "code",
   "execution_count": 21,
   "outputs": [],
   "source": [
    "from sklearn.preprocessing import StandardScaler\n",
    "standard_scaler =StandardScaler()\n",
    "standard_scaler.fit(x)\n",
    "scaled_datas = standard_scaler.transform(x_trains)\n",
    "x_tests_scaled = standard_scaler.transform(x_tests)"
   ],
   "metadata": {
    "collapsed": false
   }
  },
  {
   "cell_type": "code",
   "execution_count": 22,
   "outputs": [],
   "source": [
    "from sklearn.decomposition import PCA\n",
    "PCA = PCA()\n",
    "X_PCA= PCA.fit_transform(scaled_datas)"
   ],
   "metadata": {
    "collapsed": false
   }
  },
  {
   "cell_type": "code",
   "execution_count": 23,
   "outputs": [
    {
     "data": {
      "text/plain": "Text(0, 0.5, 'Variance')"
     },
     "execution_count": 23,
     "metadata": {},
     "output_type": "execute_result"
    },
    {
     "data": {
      "text/plain": "<Figure size 640x480 with 1 Axes>",
      "image/png": "[encoded data removed]"
     },
     "metadata": {},
     "output_type": "display_data"
    }
   ],
   "source": [
    "\n",
    "import matplotlib.pyplot as plot\n",
    "plot.plot(num.cumsum(PCA.explained_variance_ratio_))\n",
    "plot.xlabel(\"Components\")\n",
    "plot.ylabel(\"Variance\")"
   ],
   "metadata": {
    "collapsed": false
   }
  },
  {
   "cell_type": "code",
   "execution_count": 27,
   "outputs": [],
   "source": [
    "from sklearn.decomposition import PCA\n",
    "PCA = PCA(n_components=7)\n",
    "X_PCA = PCA.fit(scaled_datas)\n",
    "X_tests_PCA = PCA.fit(x_tests_scaled)"
   ],
   "metadata": {
    "collapsed": false
   }
  },
  {
   "cell_type": "code",
   "execution_count": 28,
   "outputs": [
    {
     "name": "stdout",
     "output_type": "stream",
     "text": [
      "(1263, 57)\n",
      "(1263, 7)\n"
     ]
    }
   ],
   "source": [
    "X_PCA =PCA.transform(scaled_datas)\n",
    "x_tests_PCA = PCA.transform(x_tests_scaled)\n",
    "\n",
    "print(scaled_datas.shape)\n",
    "print(X_PCA.shape)"
   ],
   "metadata": {
    "collapsed": false
   }
  },
  {
   "cell_type": "code",
   "execution_count": 29,
   "outputs": [
    {
     "data": {
      "text/plain": "array([[-0.53265356, -0.98704593, -0.37824829, ...,  0.12578828,\n         0.08982118,  0.05068271],\n       [-0.62752028, -0.89832933, -0.51031146, ..., -0.42322994,\n        -0.93924815,  0.20363247],\n       [-0.77122771,  0.07376608, -0.77369958, ..., -0.07836984,\n         0.58232964,  0.66264474],\n       ...,\n       [ 3.48277809, -0.90531959,  0.15810025, ..., -0.46243633,\n        -0.05207122, -0.40566563],\n       [-1.46053059,  2.88159441, -1.7440378 , ..., -0.38139396,\n         2.05880062, -0.0478058 ],\n       [-0.4350598 , -0.77969653,  0.20623839, ..., -0.26848287,\n        -0.19848056,  0.04728597]])"
     },
     "execution_count": 29,
     "metadata": {},
     "output_type": "execute_result"
    }
   ],
   "source": [
    "X_PCA"
   ],
   "metadata": {
    "collapsed": false
   }
  },
  {
   "cell_type": "code",
   "execution_count": 30,
   "outputs": [
    {
     "data": {
      "text/plain": "PCA(n_components=7)",
      "text/html": "<style>#sk-container-id-1 {color: black;background-color: white;}#sk-container-id-1 pre{padding: 0;}#sk-container-id-1 div.sk-toggleable {background-color: white;}#sk-container-id-1 label.sk-toggleable__label {cursor: pointer;display: block;width: 100%;margin-bottom: 0;padding: 0.3em;box-sizing: border-box;text-align: center;}#sk-container-id-1 label.sk-toggleable__label-arrow:before {content: \"▸\";float: left;margin-right: 0.25em;color: #696969;}#sk-container-id-1 label.sk-toggleable__label-arrow:hover:before {color: black;}#sk-container-id-1 div.sk-estimator:hover label.sk-toggleable__label-arrow:before {color: black;}#sk-container-id-1 div.sk-toggleable__content {max-height: 0;max-width: 0;overflow: hidden;text-align: left;background-color: #f0f8ff;}#sk-container-id-1 div.sk-toggleable__content pre {margin: 0.2em;color: black;border-radius: 0.25em;background-color: #f0f8ff;}#sk-container-id-1 input.sk-toggleable__control:checked~div.sk-toggleable__content {max-height: 200px;max-width: 100%;overflow: auto;}#sk-container-id-1 input.sk-toggleable__control:checked~label.sk-toggleable__label-arrow:before {content: \"▾\";}#sk-container-id-1 div.sk-estimator input.sk-toggleable__control:checked~label.sk-toggleable__label {background-color: #d4ebff;}#sk-container-id-1 div.sk-label input.sk-toggleable__control:checked~label.sk-toggleable__label {background-color: #d4ebff;}#sk-container-id-1 input.sk-hidden--visually {border: 0;clip: rect(1px 1px 1px 1px);clip: rect(1px, 1px, 1px, 1px);height: 1px;margin: -1px;overflow: hidden;padding: 0;position: absolute;width: 1px;}#sk-container-id-1 div.sk-estimator {font-family: monospace;background-color: #f0f8ff;border: 1px dotted black;border-radius: 0.25em;box-sizing: border-box;margin-bottom: 0.5em;}#sk-container-id-1 div.sk-estimator:hover {background-color: #d4ebff;}#sk-container-id-1 div.sk-parallel-item::after {content: \"\";width: 100%;border-bottom: 1px solid gray;flex-grow: 1;}#sk-container-id-1 div.sk-label:hover label.sk-toggleable__label {background-color: #d4ebff;}#sk-container-id-1 div.sk-serial::before {content: \"\";position: absolute;border-left: 1px solid gray;box-sizing: border-box;top: 0;bottom: 0;left: 50%;z-index: 0;}#sk-container-id-1 div.sk-serial {display: flex;flex-direction: column;align-items: center;background-color: white;padding-right: 0.2em;padding-left: 0.2em;position: relative;}#sk-container-id-1 div.sk-item {position: relative;z-index: 1;}#sk-container-id-1 div.sk-parallel {display: flex;align-items: stretch;justify-content: center;background-color: white;position: relative;}#sk-container-id-1 div.sk-item::before, #sk-container-id-1 div.sk-parallel-item::before {content: \"\";position: absolute;border-left: 1px solid gray;box-sizing: border-box;top: 0;bottom: 0;left: 50%;z-index: -1;}#sk-container-id-1 div.sk-parallel-item {display: flex;flex-direction: column;z-index: 1;position: relative;background-color: white;}#sk-container-id-1 div.sk-parallel-item:first-child::after {align-self: flex-end;width: 50%;}#sk-container-id-1 div.sk-parallel-item:last-child::after {align-self: flex-start;width: 50%;}#sk-container-id-1 div.sk-parallel-item:only-child::after {width: 0;}#sk-container-id-1 div.sk-dashed-wrapped {border: 1px dashed gray;margin: 0 0.4em 0.5em 0.4em;box-sizing: border-box;padding-bottom: 0.4em;background-color: white;}#sk-container-id-1 div.sk-label label {font-family: monospace;font-weight: bold;display: inline-block;line-height: 1.2em;}#sk-container-id-1 div.sk-label-container {text-align: center;}#sk-container-id-1 div.sk-container {/* jupyter's `normalize.less` sets `[hidden] { display: none; }` but bootstrap.min.css set `[hidden] { display: none !important; }` so we also need the `!important` here to be able to override the default hidden behavior on the sphinx rendered scikit-learn.org. See: https://github.com/scikit-learn/scikit-learn/issues/21755 */display: inline-block !important;position: relative;}#sk-container-id-1 div.sk-text-repr-fallback {display: none;}</style><div id=\"sk-container-id-1\" class=\"sk-top-container\"><div class=\"sk-text-repr-fallback\"><pre>PCA(n_components=7)</pre><b>In a Jupyter environment, please rerun this cell to show the HTML representation or trust the notebook. <br />On GitHub, the HTML representation is unable to render, please try loading this page with nbviewer.org.</b></div><div class=\"sk-container\" hidden><div class=\"sk-item\"><div class=\"sk-estimator sk-toggleable\"><input class=\"sk-toggleable__control sk-hidden--visually\" id=\"sk-estimator-id-1\" type=\"checkbox\" checked><label for=\"sk-estimator-id-1\" class=\"sk-toggleable__label sk-toggleable__label-arrow\">PCA</label><div class=\"sk-toggleable__content\"><pre>PCA(n_components=7)</pre></div></div></div></div></div>"
     },
     "execution_count": 30,
     "metadata": {},
     "output_type": "execute_result"
    }
   ],
   "source": [
    "X_tests_PCA"
   ],
   "metadata": {
    "collapsed": false
   }
  },
  {
   "cell_type": "code",
   "execution_count": 31,
   "outputs": [
    {
     "data": {
      "text/plain": "Text(0, 0.5, '6th PCA')"
     },
     "execution_count": 31,
     "metadata": {},
     "output_type": "execute_result"
    },
    {
     "data": {
      "text/plain": "<Figure size 700x700 with 1 Axes>",
      "image/png": "[encoded data removed]"
     },
     "metadata": {},
     "output_type": "display_data"
    }
   ],
   "source": [
    "plot.figure(figsize=(7,7))\n",
    "plot.scatter(X_PCA[:,0],X_PCA[:,1], )\n",
    "plot.xlabel(\"1st PCA\")\n",
    "plot.ylabel(\"6th PCA\")"
   ],
   "metadata": {
    "collapsed": false
   }
  },
  {
   "cell_type": "code",
   "execution_count": 32,
   "outputs": [
    {
     "data": {
      "text/plain": "2947"
     },
     "execution_count": 32,
     "metadata": {},
     "output_type": "execute_result"
    }
   ],
   "source": [
    "from sklearn.preprocessing import StandardScaler\n",
    "x_stand =StandardScaler()\n",
    "x_trains =x_stand.fit_transform(x_trains)\n",
    "x_tests = x_stand.transform(x_tests)\n",
    "len(y_tests)"
   ],
   "metadata": {
    "collapsed": false
   }
  },
  {
   "cell_type": "code",
   "execution_count": 33,
   "outputs": [
    {
     "name": "stdout",
     "output_type": "stream",
     "text": [
      "54.286278192559855\n"
     ]
    }
   ],
   "source": [
    "import math\n",
    "print(math.sqrt(len(y_tests)))"
   ],
   "metadata": {
    "collapsed": false
   }
  },
  {
   "cell_type": "code",
   "execution_count": 34,
   "outputs": [],
   "source": [
    "from sklearn.neighbors import KNeighborsClassifier\n",
    "classifier = KNeighborsClassifier(n_neighbors=5,metric=\"euclidean\")\n",
    "\n",
    "knn = KNeighborsClassifier(n_neighbors=5,metric=\"euclidean\")"
   ],
   "metadata": {
    "collapsed": false
   }
  },
  {
   "cell_type": "code",
   "execution_count": 35,
   "outputs": [
    {
     "ename": "ValueError",
     "evalue": "Unknown label type: 'continuous-multioutput'",
     "output_type": "error",
     "traceback": [
      "\u001B[1;31m---------------------------------------------------------------------------\u001B[0m",
      "\u001B[1;31mValueError\u001B[0m                                Traceback (most recent call last)",
      "Cell \u001B[1;32mIn[35], line 1\u001B[0m\n\u001B[1;32m----> 1\u001B[0m \u001B[43mclassifier\u001B[49m\u001B[38;5;241;43m.\u001B[39;49m\u001B[43mfit\u001B[49m\u001B[43m(\u001B[49m\u001B[43mx_trains\u001B[49m\u001B[43m,\u001B[49m\u001B[43my_trains\u001B[49m\u001B[43m)\u001B[49m\n",
      "File \u001B[1;32m~\\anaconda3\\envs\\newConda\\lib\\site-packages\\sklearn\\neighbors\\_classification.py:215\u001B[0m, in \u001B[0;36mKNeighborsClassifier.fit\u001B[1;34m(self, X, y)\u001B[0m\n\u001B[0;32m    196\u001B[0m \u001B[38;5;124;03m\"\"\"Fit the k-nearest neighbors classifier from the training dataset.\u001B[39;00m\n\u001B[0;32m    197\u001B[0m \n\u001B[0;32m    198\u001B[0m \u001B[38;5;124;03mParameters\u001B[39;00m\n\u001B[1;32m   (...)\u001B[0m\n\u001B[0;32m    211\u001B[0m \u001B[38;5;124;03m    The fitted k-nearest neighbors classifier.\u001B[39;00m\n\u001B[0;32m    212\u001B[0m \u001B[38;5;124;03m\"\"\"\u001B[39;00m\n\u001B[0;32m    213\u001B[0m \u001B[38;5;28mself\u001B[39m\u001B[38;5;241m.\u001B[39m_validate_params()\n\u001B[1;32m--> 215\u001B[0m \u001B[38;5;28;01mreturn\u001B[39;00m \u001B[38;5;28;43mself\u001B[39;49m\u001B[38;5;241;43m.\u001B[39;49m\u001B[43m_fit\u001B[49m\u001B[43m(\u001B[49m\u001B[43mX\u001B[49m\u001B[43m,\u001B[49m\u001B[43m \u001B[49m\u001B[43my\u001B[49m\u001B[43m)\u001B[49m\n",
      "File \u001B[1;32m~\\anaconda3\\envs\\newConda\\lib\\site-packages\\sklearn\\neighbors\\_base.py:476\u001B[0m, in \u001B[0;36mNeighborsBase._fit\u001B[1;34m(self, X, y)\u001B[0m\n\u001B[0;32m    473\u001B[0m \u001B[38;5;28;01melse\u001B[39;00m:\n\u001B[0;32m    474\u001B[0m     \u001B[38;5;28mself\u001B[39m\u001B[38;5;241m.\u001B[39moutputs_2d_ \u001B[38;5;241m=\u001B[39m \u001B[38;5;28;01mTrue\u001B[39;00m\n\u001B[1;32m--> 476\u001B[0m \u001B[43mcheck_classification_targets\u001B[49m\u001B[43m(\u001B[49m\u001B[43my\u001B[49m\u001B[43m)\u001B[49m\n\u001B[0;32m    477\u001B[0m \u001B[38;5;28mself\u001B[39m\u001B[38;5;241m.\u001B[39mclasses_ \u001B[38;5;241m=\u001B[39m []\n\u001B[0;32m    478\u001B[0m \u001B[38;5;28mself\u001B[39m\u001B[38;5;241m.\u001B[39m_y \u001B[38;5;241m=\u001B[39m np\u001B[38;5;241m.\u001B[39mempty(y\u001B[38;5;241m.\u001B[39mshape, dtype\u001B[38;5;241m=\u001B[39m\u001B[38;5;28mint\u001B[39m)\n",
      "File \u001B[1;32m~\\anaconda3\\envs\\newConda\\lib\\site-packages\\sklearn\\utils\\multiclass.py:207\u001B[0m, in \u001B[0;36mcheck_classification_targets\u001B[1;34m(y)\u001B[0m\n\u001B[0;32m    199\u001B[0m y_type \u001B[38;5;241m=\u001B[39m type_of_target(y, input_name\u001B[38;5;241m=\u001B[39m\u001B[38;5;124m\"\u001B[39m\u001B[38;5;124my\u001B[39m\u001B[38;5;124m\"\u001B[39m)\n\u001B[0;32m    200\u001B[0m \u001B[38;5;28;01mif\u001B[39;00m y_type \u001B[38;5;129;01mnot\u001B[39;00m \u001B[38;5;129;01min\u001B[39;00m [\n\u001B[0;32m    201\u001B[0m     \u001B[38;5;124m\"\u001B[39m\u001B[38;5;124mbinary\u001B[39m\u001B[38;5;124m\"\u001B[39m,\n\u001B[0;32m    202\u001B[0m     \u001B[38;5;124m\"\u001B[39m\u001B[38;5;124mmulticlass\u001B[39m\u001B[38;5;124m\"\u001B[39m,\n\u001B[1;32m   (...)\u001B[0m\n\u001B[0;32m    205\u001B[0m     \u001B[38;5;124m\"\u001B[39m\u001B[38;5;124mmultilabel-sequences\u001B[39m\u001B[38;5;124m\"\u001B[39m,\n\u001B[0;32m    206\u001B[0m ]:\n\u001B[1;32m--> 207\u001B[0m     \u001B[38;5;28;01mraise\u001B[39;00m \u001B[38;5;167;01mValueError\u001B[39;00m(\u001B[38;5;124m\"\u001B[39m\u001B[38;5;124mUnknown label type: \u001B[39m\u001B[38;5;132;01m%r\u001B[39;00m\u001B[38;5;124m\"\u001B[39m \u001B[38;5;241m%\u001B[39m y_type)\n",
      "\u001B[1;31mValueError\u001B[0m: Unknown label type: 'continuous-multioutput'"
     ]
    }
   ],
   "source": [
    "classifier.fit(x_trains,y_trains)"
   ],
   "metadata": {
    "collapsed": false
   }
  },
  {
   "cell_type": "code",
   "execution_count": 211,
   "outputs": [
    {
     "ename": "ValueError",
     "evalue": "Unknown label type: 'continuous-multioutput'",
     "output_type": "error",
     "traceback": [
      "\u001B[1;31m---------------------------------------------------------------------------\u001B[0m",
      "\u001B[1;31mValueError\u001B[0m                                Traceback (most recent call last)",
      "Cell \u001B[1;32mIn[211], line 1\u001B[0m\n\u001B[1;32m----> 1\u001B[0m \u001B[43mknn\u001B[49m\u001B[38;5;241;43m.\u001B[39;49m\u001B[43mfit\u001B[49m\u001B[43m(\u001B[49m\u001B[43mx_trains\u001B[49m\u001B[43m,\u001B[49m\u001B[43my_trains\u001B[49m\u001B[43m)\u001B[49m\n",
      "File \u001B[1;32m~\\anaconda3\\envs\\newConda\\lib\\site-packages\\sklearn\\neighbors\\_classification.py:215\u001B[0m, in \u001B[0;36mKNeighborsClassifier.fit\u001B[1;34m(self, X, y)\u001B[0m\n\u001B[0;32m    196\u001B[0m \u001B[38;5;124;03m\"\"\"Fit the k-nearest neighbors classifier from the training dataset.\u001B[39;00m\n\u001B[0;32m    197\u001B[0m \n\u001B[0;32m    198\u001B[0m \u001B[38;5;124;03mParameters\u001B[39;00m\n\u001B[1;32m   (...)\u001B[0m\n\u001B[0;32m    211\u001B[0m \u001B[38;5;124;03m    The fitted k-nearest neighbors classifier.\u001B[39;00m\n\u001B[0;32m    212\u001B[0m \u001B[38;5;124;03m\"\"\"\u001B[39;00m\n\u001B[0;32m    213\u001B[0m \u001B[38;5;28mself\u001B[39m\u001B[38;5;241m.\u001B[39m_validate_params()\n\u001B[1;32m--> 215\u001B[0m \u001B[38;5;28;01mreturn\u001B[39;00m \u001B[38;5;28;43mself\u001B[39;49m\u001B[38;5;241;43m.\u001B[39;49m\u001B[43m_fit\u001B[49m\u001B[43m(\u001B[49m\u001B[43mX\u001B[49m\u001B[43m,\u001B[49m\u001B[43m \u001B[49m\u001B[43my\u001B[49m\u001B[43m)\u001B[49m\n",
      "File \u001B[1;32m~\\anaconda3\\envs\\newConda\\lib\\site-packages\\sklearn\\neighbors\\_base.py:476\u001B[0m, in \u001B[0;36mNeighborsBase._fit\u001B[1;34m(self, X, y)\u001B[0m\n\u001B[0;32m    473\u001B[0m \u001B[38;5;28;01melse\u001B[39;00m:\n\u001B[0;32m    474\u001B[0m     \u001B[38;5;28mself\u001B[39m\u001B[38;5;241m.\u001B[39moutputs_2d_ \u001B[38;5;241m=\u001B[39m \u001B[38;5;28;01mTrue\u001B[39;00m\n\u001B[1;32m--> 476\u001B[0m \u001B[43mcheck_classification_targets\u001B[49m\u001B[43m(\u001B[49m\u001B[43my\u001B[49m\u001B[43m)\u001B[49m\n\u001B[0;32m    477\u001B[0m \u001B[38;5;28mself\u001B[39m\u001B[38;5;241m.\u001B[39mclasses_ \u001B[38;5;241m=\u001B[39m []\n\u001B[0;32m    478\u001B[0m \u001B[38;5;28mself\u001B[39m\u001B[38;5;241m.\u001B[39m_y \u001B[38;5;241m=\u001B[39m np\u001B[38;5;241m.\u001B[39mempty(y\u001B[38;5;241m.\u001B[39mshape, dtype\u001B[38;5;241m=\u001B[39m\u001B[38;5;28mint\u001B[39m)\n",
      "File \u001B[1;32m~\\anaconda3\\envs\\newConda\\lib\\site-packages\\sklearn\\utils\\multiclass.py:207\u001B[0m, in \u001B[0;36mcheck_classification_targets\u001B[1;34m(y)\u001B[0m\n\u001B[0;32m    199\u001B[0m y_type \u001B[38;5;241m=\u001B[39m type_of_target(y, input_name\u001B[38;5;241m=\u001B[39m\u001B[38;5;124m\"\u001B[39m\u001B[38;5;124my\u001B[39m\u001B[38;5;124m\"\u001B[39m)\n\u001B[0;32m    200\u001B[0m \u001B[38;5;28;01mif\u001B[39;00m y_type \u001B[38;5;129;01mnot\u001B[39;00m \u001B[38;5;129;01min\u001B[39;00m [\n\u001B[0;32m    201\u001B[0m     \u001B[38;5;124m\"\u001B[39m\u001B[38;5;124mbinary\u001B[39m\u001B[38;5;124m\"\u001B[39m,\n\u001B[0;32m    202\u001B[0m     \u001B[38;5;124m\"\u001B[39m\u001B[38;5;124mmulticlass\u001B[39m\u001B[38;5;124m\"\u001B[39m,\n\u001B[1;32m   (...)\u001B[0m\n\u001B[0;32m    205\u001B[0m     \u001B[38;5;124m\"\u001B[39m\u001B[38;5;124mmultilabel-sequences\u001B[39m\u001B[38;5;124m\"\u001B[39m,\n\u001B[0;32m    206\u001B[0m ]:\n\u001B[1;32m--> 207\u001B[0m     \u001B[38;5;28;01mraise\u001B[39;00m \u001B[38;5;167;01mValueError\u001B[39;00m(\u001B[38;5;124m\"\u001B[39m\u001B[38;5;124mUnknown label type: \u001B[39m\u001B[38;5;132;01m%r\u001B[39;00m\u001B[38;5;124m\"\u001B[39m \u001B[38;5;241m%\u001B[39m y_type)\n",
      "\u001B[1;31mValueError\u001B[0m: Unknown label type: 'continuous-multioutput'"
     ]
    }
   ],
   "source": [
    "knn.fit(x_trains,y_trains)"
   ],
   "metadata": {
    "collapsed": false
   }
  },
  {
   "cell_type": "code",
   "execution_count": 189,
   "outputs": [
    {
     "ename": "AttributeError",
     "evalue": "'KNeighborsClassifier' object has no attribute 'n_samples_fit_'",
     "output_type": "error",
     "traceback": [
      "\u001B[1;31m---------------------------------------------------------------------------\u001B[0m",
      "\u001B[1;31mAttributeError\u001B[0m                            Traceback (most recent call last)",
      "Cell \u001B[1;32mIn[189], line 1\u001B[0m\n\u001B[1;32m----> 1\u001B[0m Y_predict\u001B[38;5;241m=\u001B[39m \u001B[43mclassifier\u001B[49m\u001B[38;5;241;43m.\u001B[39;49m\u001B[43mpredict\u001B[49m\u001B[43m(\u001B[49m\u001B[43mx_tests\u001B[49m\u001B[43m)\u001B[49m\n\u001B[0;32m      2\u001B[0m Y_predict\n",
      "File \u001B[1;32m~\\anaconda3\\envs\\newConda\\lib\\site-packages\\sklearn\\neighbors\\_classification.py:234\u001B[0m, in \u001B[0;36mKNeighborsClassifier.predict\u001B[1;34m(self, X)\u001B[0m\n\u001B[0;32m    218\u001B[0m \u001B[38;5;124;03m\"\"\"Predict the class labels for the provided data.\u001B[39;00m\n\u001B[0;32m    219\u001B[0m \n\u001B[0;32m    220\u001B[0m \u001B[38;5;124;03mParameters\u001B[39;00m\n\u001B[1;32m   (...)\u001B[0m\n\u001B[0;32m    229\u001B[0m \u001B[38;5;124;03m    Class labels for each data sample.\u001B[39;00m\n\u001B[0;32m    230\u001B[0m \u001B[38;5;124;03m\"\"\"\u001B[39;00m\n\u001B[0;32m    231\u001B[0m \u001B[38;5;28;01mif\u001B[39;00m \u001B[38;5;28mself\u001B[39m\u001B[38;5;241m.\u001B[39mweights \u001B[38;5;241m==\u001B[39m \u001B[38;5;124m\"\u001B[39m\u001B[38;5;124muniform\u001B[39m\u001B[38;5;124m\"\u001B[39m:\n\u001B[0;32m    232\u001B[0m     \u001B[38;5;66;03m# In that case, we do not need the distances to perform\u001B[39;00m\n\u001B[0;32m    233\u001B[0m     \u001B[38;5;66;03m# the weighting so we do not compute them.\u001B[39;00m\n\u001B[1;32m--> 234\u001B[0m     neigh_ind \u001B[38;5;241m=\u001B[39m \u001B[38;5;28;43mself\u001B[39;49m\u001B[38;5;241;43m.\u001B[39;49m\u001B[43mkneighbors\u001B[49m\u001B[43m(\u001B[49m\u001B[43mX\u001B[49m\u001B[43m,\u001B[49m\u001B[43m \u001B[49m\u001B[43mreturn_distance\u001B[49m\u001B[38;5;241;43m=\u001B[39;49m\u001B[38;5;28;43;01mFalse\u001B[39;49;00m\u001B[43m)\u001B[49m\n\u001B[0;32m    235\u001B[0m     neigh_dist \u001B[38;5;241m=\u001B[39m \u001B[38;5;28;01mNone\u001B[39;00m\n\u001B[0;32m    236\u001B[0m \u001B[38;5;28;01melse\u001B[39;00m:\n",
      "File \u001B[1;32m~\\anaconda3\\envs\\newConda\\lib\\site-packages\\sklearn\\neighbors\\_base.py:808\u001B[0m, in \u001B[0;36mKNeighborsMixin.kneighbors\u001B[1;34m(self, X, n_neighbors, return_distance)\u001B[0m\n\u001B[0;32m    805\u001B[0m     \u001B[38;5;28;01melse\u001B[39;00m:\n\u001B[0;32m    806\u001B[0m         X \u001B[38;5;241m=\u001B[39m \u001B[38;5;28mself\u001B[39m\u001B[38;5;241m.\u001B[39m_validate_data(X, accept_sparse\u001B[38;5;241m=\u001B[39m\u001B[38;5;124m\"\u001B[39m\u001B[38;5;124mcsr\u001B[39m\u001B[38;5;124m\"\u001B[39m, reset\u001B[38;5;241m=\u001B[39m\u001B[38;5;28;01mFalse\u001B[39;00m, order\u001B[38;5;241m=\u001B[39m\u001B[38;5;124m\"\u001B[39m\u001B[38;5;124mC\u001B[39m\u001B[38;5;124m\"\u001B[39m)\n\u001B[1;32m--> 808\u001B[0m n_samples_fit \u001B[38;5;241m=\u001B[39m \u001B[38;5;28;43mself\u001B[39;49m\u001B[38;5;241;43m.\u001B[39;49m\u001B[43mn_samples_fit_\u001B[49m\n\u001B[0;32m    809\u001B[0m \u001B[38;5;28;01mif\u001B[39;00m n_neighbors \u001B[38;5;241m>\u001B[39m n_samples_fit:\n\u001B[0;32m    810\u001B[0m     \u001B[38;5;28;01mraise\u001B[39;00m \u001B[38;5;167;01mValueError\u001B[39;00m(\n\u001B[0;32m    811\u001B[0m         \u001B[38;5;124m\"\u001B[39m\u001B[38;5;124mExpected n_neighbors <= n_samples, \u001B[39m\u001B[38;5;124m\"\u001B[39m\n\u001B[0;32m    812\u001B[0m         \u001B[38;5;124m\"\u001B[39m\u001B[38;5;124m but n_samples = \u001B[39m\u001B[38;5;132;01m%d\u001B[39;00m\u001B[38;5;124m, n_neighbors = \u001B[39m\u001B[38;5;132;01m%d\u001B[39;00m\u001B[38;5;124m\"\u001B[39m \u001B[38;5;241m%\u001B[39m (n_samples_fit, n_neighbors)\n\u001B[0;32m    813\u001B[0m     )\n",
      "\u001B[1;31mAttributeError\u001B[0m: 'KNeighborsClassifier' object has no attribute 'n_samples_fit_'"
     ]
    }
   ],
   "source": [
    "Y_predict= classifier.predict(x_tests)\n",
    "Y_predict"
   ],
   "metadata": {
    "collapsed": false
   }
  },
  {
   "cell_type": "code",
   "execution_count": null,
   "outputs": [],
   "source": [],
   "metadata": {
    "collapsed": false
   }
  }
 ],
 "metadata": {
  "kernelspec": {
   "display_name": "Python 3",
   "language": "python",
   "name": "python3"
  },
  "language_info": {
   "codemirror_mode": {
    "name": "ipython",
    "version": 2
   },
   "file_extension": ".py",
   "mimetype": "text/x-python",
   "name": "python",
   "nbconvert_exporter": "python",
   "pygments_lexer": "ipython2",
   "version": "2.7.6"
  }
 },
 "nbformat": 4,
 "nbformat_minor": 0
}
